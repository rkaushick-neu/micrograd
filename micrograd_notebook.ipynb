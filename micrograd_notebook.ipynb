{
 "cells": [
  {
   "cell_type": "markdown",
   "metadata": {},
   "source": [
    "# Micrograd\n",
    "Building neural networks from scratch. \n",
    "\n",
    "## The Neural Network Data Structure"
   ]
  },
  {
   "cell_type": "code",
   "execution_count": 1,
   "metadata": {},
   "outputs": [],
   "source": [
    "class Value:\n",
    "\n",
    "    def __init__(self, data: float) -> None:\n",
    "        self.data = data\n",
    "\n",
    "    # if we are printing an object of Value class, it will automatically call this function\n",
    "    def __repr__(self) -> str:\n",
    "        return f\"Value(data={self.data})\""
   ]
  },
  {
   "cell_type": "code",
   "execution_count": 2,
   "metadata": {},
   "outputs": [],
   "source": [
    "class Value:\n",
    "\n",
    "    def __init__(self, data: float, _children=(), _operator='', label='') -> None:\n",
    "        self.data = data\n",
    "        self._prev = set(_children)\n",
    "        self._operator = _operator\n",
    "        self.label = label\n",
    "\n",
    "    # if we are printing an object of Value class, \n",
    "    # it will automatically call this function\n",
    "    # similar to toString method in Java\n",
    "    def __repr__(self) -> str:\n",
    "        return f\"Value(data={self.data})\"\n",
    "    \n",
    "    def __add__(self, other: Value) -> Value:\n",
    "        out = Value(data=(self.data + other.data), _children=(self, other), _operator='+')\n",
    "        return out\n",
    "    \n",
    "    def __mul__(self, other: Value) -> Value:\n",
    "        out = Value(data=self.data * other.data, _children=(self, other), _operator='*')\n",
    "        return out\n",
    "\n",
    "    # probably not required but added it anyway\n",
    "    def __sub__(self, other: Value) -> Value:\n",
    "        out = Value(data=self.data - other.data, _children=(self, other), _operator='-')\n",
    "        return out\n",
    "    \n",
    "    # probably not required but added it anyway\n",
    "    # truediv is called when we perform a/b\n",
    "    def __truediv__(self, other: Value) -> Value:\n",
    "        out = Value(data=self.data / other.data, _children=(self, other), _operator='/')\n",
    "        return out"
   ]
  },
  {
   "cell_type": "code",
   "execution_count": 3,
   "metadata": {},
   "outputs": [
    {
     "name": "stdout",
     "output_type": "stream",
     "text": [
      "Value(data=3.0)\n"
     ]
    }
   ],
   "source": [
    "a = Value(3.0, label='a')\n",
    "print(a)"
   ]
  },
  {
   "cell_type": "code",
   "execution_count": 4,
   "metadata": {},
   "outputs": [
    {
     "data": {
      "text/plain": [
       "Value(data=-1.0)"
      ]
     },
     "execution_count": 4,
     "metadata": {},
     "output_type": "execute_result"
    }
   ],
   "source": [
    "b = Value(-1.0, label='b')\n",
    "b"
   ]
  },
  {
   "cell_type": "code",
   "execution_count": 5,
   "metadata": {},
   "outputs": [
    {
     "data": {
      "text/plain": [
       "Value(data=2.0)"
      ]
     },
     "execution_count": 5,
     "metadata": {},
     "output_type": "execute_result"
    }
   ],
   "source": [
    "a+b"
   ]
  },
  {
   "cell_type": "markdown",
   "metadata": {},
   "source": [
    "Internally it performs \n",
    "```python\n",
    "    a.__add__(b)\n",
    "```"
   ]
  },
  {
   "cell_type": "code",
   "execution_count": 6,
   "metadata": {},
   "outputs": [
    {
     "data": {
      "text/plain": [
       "Value(data=-3.0)"
      ]
     },
     "execution_count": 6,
     "metadata": {},
     "output_type": "execute_result"
    }
   ],
   "source": [
    "a*b"
   ]
  },
  {
   "cell_type": "markdown",
   "metadata": {},
   "source": [
    "Internally it performs \n",
    "```python\n",
    "    a.__mul__(b)\n",
    "```"
   ]
  },
  {
   "cell_type": "code",
   "execution_count": 7,
   "metadata": {},
   "outputs": [],
   "source": [
    "c = Value(20, label='c')"
   ]
  },
  {
   "cell_type": "code",
   "execution_count": 8,
   "metadata": {},
   "outputs": [
    {
     "data": {
      "text/plain": [
       "Value(data=-17.0)"
      ]
     },
     "execution_count": 8,
     "metadata": {},
     "output_type": "execute_result"
    }
   ],
   "source": [
    "a+b*c"
   ]
  },
  {
   "cell_type": "markdown",
   "metadata": {},
   "source": [
    "**a + b * c** follows BODMAS rule i.e.\n",
    "- completes b*c first\n",
    "- adds a to the above result"
   ]
  },
  {
   "cell_type": "markdown",
   "metadata": {},
   "source": [
    "## After Adding Children & Operator"
   ]
  },
  {
   "cell_type": "code",
   "execution_count": 9,
   "metadata": {},
   "outputs": [],
   "source": [
    "d = a+b\n",
    "d.label = 'd'"
   ]
  },
  {
   "cell_type": "code",
   "execution_count": 10,
   "metadata": {},
   "outputs": [
    {
     "name": "stdout",
     "output_type": "stream",
     "text": [
      "d =  Value(data=2.0)\n",
      "d prev =  {Value(data=-1.0), Value(data=3.0)}\n",
      "d operator =  +\n",
      "d label =  d\n"
     ]
    }
   ],
   "source": [
    "print(\"d = \", d)\n",
    "print(\"d prev = \", d._prev)\n",
    "print(\"d operator = \", d._operator)\n",
    "print(\"d label = \", d.label)"
   ]
  },
  {
   "cell_type": "markdown",
   "metadata": {},
   "source": [
    "## Graphing the Neurons"
   ]
  },
  {
   "cell_type": "code",
   "execution_count": 11,
   "metadata": {},
   "outputs": [],
   "source": [
    "from graphviz import Digraph\n",
    "\n",
    "# build set of nodes and edges in the graph\n",
    "def trace(root: Value):\n",
    "    nodes, edges = set(), set()\n",
    "    def build(v):\n",
    "        if v not in nodes:\n",
    "            nodes.add(v)\n",
    "            for child in v._prev:\n",
    "                edges.add((child, v))\n",
    "                build(child)\n",
    "    build(root)\n",
    "    return nodes, edges\n",
    "\n",
    "def draw_network(root: Value) -> Digraph:\n",
    "    dot = Digraph(format='svg', graph_attr={'rankdir': 'LR'}) # rank direction LR -> left to right\n",
    "\n",
    "    nodes, edges = trace(root)\n",
    "    for n in nodes:\n",
    "        uid = str(id(n))\n",
    "        dot.node(name=uid, label=\"{ %s | data %.4f | grad }\" % (n.label, n.data), shape='record')\n",
    "        # if the resulting node is result of a mathematical operation:\n",
    "        if(n._operator):\n",
    "            # creating an operation node\n",
    "            dot.node(name=uid+n._operator, label=n._operator)\n",
    "            # connecting it with the node\n",
    "            dot.edge(uid + n._operator, uid)\n",
    "    \n",
    "    for n1, n2 in edges:\n",
    "        dot.edge(str(id(n1)), str(id(n2)) + n2._operator)\n",
    "    \n",
    "    return dot"
   ]
  },
  {
   "cell_type": "code",
   "execution_count": 12,
   "metadata": {},
   "outputs": [
    {
     "data": {
      "image/svg+xml": [
       "<?xml version=\"1.0\" encoding=\"UTF-8\" standalone=\"no\"?>\n",
       "<!DOCTYPE svg PUBLIC \"-//W3C//DTD SVG 1.1//EN\"\n",
       " \"http://www.w3.org/Graphics/SVG/1.1/DTD/svg11.dtd\">\n",
       "<!-- Generated by graphviz version 12.1.2 (20240928.0832)\n",
       " -->\n",
       "<!-- Pages: 1 -->\n",
       "<svg width=\"424pt\" height=\"100pt\"\n",
       " viewBox=\"0.00 0.00 423.50 100.00\" xmlns=\"http://www.w3.org/2000/svg\" xmlns:xlink=\"http://www.w3.org/1999/xlink\">\n",
       "<g id=\"graph0\" class=\"graph\" transform=\"scale(1 1) rotate(0) translate(4 96)\">\n",
       "<polygon fill=\"white\" stroke=\"none\" points=\"-4,4 -4,-96 419.5,-96 419.5,4 -4,4\"/>\n",
       "<!-- 4371905216 -->\n",
       "<g id=\"node1\" class=\"node\">\n",
       "<title>4371905216</title>\n",
       "<polygon fill=\"none\" stroke=\"black\" points=\"273,-27.5 273,-63.5 415.5,-63.5 415.5,-27.5 273,-27.5\"/>\n",
       "<text text-anchor=\"middle\" x=\"284.38\" y=\"-40.7\" font-family=\"Times,serif\" font-size=\"14.00\">d</text>\n",
       "<polyline fill=\"none\" stroke=\"black\" points=\"295.75,-28 295.75,-63.5\"/>\n",
       "<text text-anchor=\"middle\" x=\"335.62\" y=\"-40.7\" font-family=\"Times,serif\" font-size=\"14.00\">data 2.0000</text>\n",
       "<polyline fill=\"none\" stroke=\"black\" points=\"375.5,-28 375.5,-63.5\"/>\n",
       "<text text-anchor=\"middle\" x=\"395.5\" y=\"-40.7\" font-family=\"Times,serif\" font-size=\"14.00\">grad</text>\n",
       "</g>\n",
       "<!-- 4371905216+ -->\n",
       "<g id=\"node2\" class=\"node\">\n",
       "<title>4371905216+</title>\n",
       "<ellipse fill=\"none\" stroke=\"black\" cx=\"210\" cy=\"-45.5\" rx=\"27\" ry=\"18\"/>\n",
       "<text text-anchor=\"middle\" x=\"210\" y=\"-40.45\" font-family=\"Times,serif\" font-size=\"14.00\">+</text>\n",
       "</g>\n",
       "<!-- 4371905216+&#45;&gt;4371905216 -->\n",
       "<g id=\"edge1\" class=\"edge\">\n",
       "<title>4371905216+&#45;&gt;4371905216</title>\n",
       "<path fill=\"none\" stroke=\"black\" d=\"M237.44,-45.5C244.63,-45.5 252.8,-45.5 261.34,-45.5\"/>\n",
       "<polygon fill=\"black\" stroke=\"black\" points=\"261.22,-49 271.22,-45.5 261.22,-42 261.22,-49\"/>\n",
       "</g>\n",
       "<!-- 4370444240 -->\n",
       "<g id=\"node3\" class=\"node\">\n",
       "<title>4370444240</title>\n",
       "<polygon fill=\"none\" stroke=\"black\" points=\"0,-55.5 0,-91.5 147,-91.5 147,-55.5 0,-55.5\"/>\n",
       "<text text-anchor=\"middle\" x=\"11.38\" y=\"-68.7\" font-family=\"Times,serif\" font-size=\"14.00\">b</text>\n",
       "<polyline fill=\"none\" stroke=\"black\" points=\"22.75,-56 22.75,-91.5\"/>\n",
       "<text text-anchor=\"middle\" x=\"64.88\" y=\"-68.7\" font-family=\"Times,serif\" font-size=\"14.00\">data &#45;1.0000</text>\n",
       "<polyline fill=\"none\" stroke=\"black\" points=\"107,-56 107,-91.5\"/>\n",
       "<text text-anchor=\"middle\" x=\"127\" y=\"-68.7\" font-family=\"Times,serif\" font-size=\"14.00\">grad</text>\n",
       "</g>\n",
       "<!-- 4370444240&#45;&gt;4371905216+ -->\n",
       "<g id=\"edge2\" class=\"edge\">\n",
       "<title>4370444240&#45;&gt;4371905216+</title>\n",
       "<path fill=\"none\" stroke=\"black\" d=\"M147.26,-58.35C156.08,-56.52 164.77,-54.71 172.72,-53.05\"/>\n",
       "<polygon fill=\"black\" stroke=\"black\" points=\"173.21,-56.53 182.28,-51.06 171.78,-49.67 173.21,-56.53\"/>\n",
       "</g>\n",
       "<!-- 4373491936 -->\n",
       "<g id=\"node4\" class=\"node\">\n",
       "<title>4373491936</title>\n",
       "<polygon fill=\"none\" stroke=\"black\" points=\"2.62,-0.5 2.62,-36.5 144.38,-36.5 144.38,-0.5 2.62,-0.5\"/>\n",
       "<text text-anchor=\"middle\" x=\"13.62\" y=\"-13.7\" font-family=\"Times,serif\" font-size=\"14.00\">a</text>\n",
       "<polyline fill=\"none\" stroke=\"black\" points=\"24.62,-1 24.62,-36.5\"/>\n",
       "<text text-anchor=\"middle\" x=\"64.5\" y=\"-13.7\" font-family=\"Times,serif\" font-size=\"14.00\">data 3.0000</text>\n",
       "<polyline fill=\"none\" stroke=\"black\" points=\"104.38,-1 104.38,-36.5\"/>\n",
       "<text text-anchor=\"middle\" x=\"124.38\" y=\"-13.7\" font-family=\"Times,serif\" font-size=\"14.00\">grad</text>\n",
       "</g>\n",
       "<!-- 4373491936&#45;&gt;4371905216+ -->\n",
       "<g id=\"edge3\" class=\"edge\">\n",
       "<title>4373491936&#45;&gt;4371905216+</title>\n",
       "<path fill=\"none\" stroke=\"black\" d=\"M144.51,-32.55C154.16,-34.49 163.74,-36.41 172.45,-38.16\"/>\n",
       "<polygon fill=\"black\" stroke=\"black\" points=\"171.72,-41.59 182.22,-40.12 173.1,-34.72 171.72,-41.59\"/>\n",
       "</g>\n",
       "</g>\n",
       "</svg>\n"
      ],
      "text/plain": [
       "<graphviz.graphs.Digraph at 0x104b38590>"
      ]
     },
     "execution_count": 12,
     "metadata": {},
     "output_type": "execute_result"
    }
   ],
   "source": [
    "draw_network(d)"
   ]
  },
  {
   "cell_type": "code",
   "execution_count": 13,
   "metadata": {},
   "outputs": [
    {
     "data": {
      "text/plain": [
       "Value(data=-8.0)"
      ]
     },
     "execution_count": 13,
     "metadata": {},
     "output_type": "execute_result"
    }
   ],
   "source": [
    "a = Value(2.0, label='a')\n",
    "b = Value(-3.0, label='b')\n",
    "c = Value(10.0, label='c')\n",
    "e = a*b; e.label = 'e'\n",
    "d = e + c; d.label = 'd'\n",
    "f = Value(-2.0, label='f')\n",
    "L = d * f; L.label = 'L'\n",
    "L"
   ]
  },
  {
   "cell_type": "code",
   "execution_count": 14,
   "metadata": {},
   "outputs": [
    {
     "data": {
      "image/svg+xml": [
       "<?xml version=\"1.0\" encoding=\"UTF-8\" standalone=\"no\"?>\n",
       "<!DOCTYPE svg PUBLIC \"-//W3C//DTD SVG 1.1//EN\"\n",
       " \"http://www.w3.org/Graphics/SVG/1.1/DTD/svg11.dtd\">\n",
       "<!-- Generated by graphviz version 12.1.2 (20240928.0832)\n",
       " -->\n",
       "<!-- Pages: 1 -->\n",
       "<svg width=\"975pt\" height=\"156pt\"\n",
       " viewBox=\"0.00 0.00 974.75 156.00\" xmlns=\"http://www.w3.org/2000/svg\" xmlns:xlink=\"http://www.w3.org/1999/xlink\">\n",
       "<g id=\"graph0\" class=\"graph\" transform=\"scale(1 1) rotate(0) translate(4 152)\">\n",
       "<polygon fill=\"white\" stroke=\"none\" points=\"-4,4 -4,-152 970.75,-152 970.75,4 -4,4\"/>\n",
       "<!-- 4373872144 -->\n",
       "<g id=\"node1\" class=\"node\">\n",
       "<title>4373872144</title>\n",
       "<polygon fill=\"none\" stroke=\"black\" points=\"818.25,-27.5 818.25,-63.5 966.75,-63.5 966.75,-27.5 818.25,-27.5\"/>\n",
       "<text text-anchor=\"middle\" x=\"830.38\" y=\"-40.7\" font-family=\"Times,serif\" font-size=\"14.00\">L</text>\n",
       "<polyline fill=\"none\" stroke=\"black\" points=\"842.5,-28 842.5,-63.5\"/>\n",
       "<text text-anchor=\"middle\" x=\"884.62\" y=\"-40.7\" font-family=\"Times,serif\" font-size=\"14.00\">data &#45;8.0000</text>\n",
       "<polyline fill=\"none\" stroke=\"black\" points=\"926.75,-28 926.75,-63.5\"/>\n",
       "<text text-anchor=\"middle\" x=\"946.75\" y=\"-40.7\" font-family=\"Times,serif\" font-size=\"14.00\">grad</text>\n",
       "</g>\n",
       "<!-- 4373872144* -->\n",
       "<g id=\"node2\" class=\"node\">\n",
       "<title>4373872144*</title>\n",
       "<ellipse fill=\"none\" stroke=\"black\" cx=\"755.25\" cy=\"-45.5\" rx=\"27\" ry=\"18\"/>\n",
       "<text text-anchor=\"middle\" x=\"755.25\" y=\"-40.45\" font-family=\"Times,serif\" font-size=\"14.00\">*</text>\n",
       "</g>\n",
       "<!-- 4373872144*&#45;&gt;4373872144 -->\n",
       "<g id=\"edge1\" class=\"edge\">\n",
       "<title>4373872144*&#45;&gt;4373872144</title>\n",
       "<path fill=\"none\" stroke=\"black\" d=\"M782.65,-45.5C789.81,-45.5 797.97,-45.5 806.53,-45.5\"/>\n",
       "<polygon fill=\"black\" stroke=\"black\" points=\"806.44,-49 816.44,-45.5 806.44,-42 806.44,-49\"/>\n",
       "</g>\n",
       "<!-- 4371720272 -->\n",
       "<g id=\"node3\" class=\"node\">\n",
       "<title>4371720272</title>\n",
       "<polygon fill=\"none\" stroke=\"black\" points=\"0,-111.5 0,-147.5 147,-147.5 147,-111.5 0,-111.5\"/>\n",
       "<text text-anchor=\"middle\" x=\"11.38\" y=\"-124.7\" font-family=\"Times,serif\" font-size=\"14.00\">b</text>\n",
       "<polyline fill=\"none\" stroke=\"black\" points=\"22.75,-112 22.75,-147.5\"/>\n",
       "<text text-anchor=\"middle\" x=\"64.88\" y=\"-124.7\" font-family=\"Times,serif\" font-size=\"14.00\">data &#45;3.0000</text>\n",
       "<polyline fill=\"none\" stroke=\"black\" points=\"107,-112 107,-147.5\"/>\n",
       "<text text-anchor=\"middle\" x=\"127\" y=\"-124.7\" font-family=\"Times,serif\" font-size=\"14.00\">grad</text>\n",
       "</g>\n",
       "<!-- 4371990720* -->\n",
       "<g id=\"node5\" class=\"node\">\n",
       "<title>4371990720*</title>\n",
       "<ellipse fill=\"none\" stroke=\"black\" cx=\"210\" cy=\"-101.5\" rx=\"27\" ry=\"18\"/>\n",
       "<text text-anchor=\"middle\" x=\"210\" y=\"-96.45\" font-family=\"Times,serif\" font-size=\"14.00\">*</text>\n",
       "</g>\n",
       "<!-- 4371720272&#45;&gt;4371990720* -->\n",
       "<g id=\"edge7\" class=\"edge\">\n",
       "<title>4371720272&#45;&gt;4371990720*</title>\n",
       "<path fill=\"none\" stroke=\"black\" d=\"M147.26,-114.35C156.08,-112.52 164.77,-110.71 172.72,-109.05\"/>\n",
       "<polygon fill=\"black\" stroke=\"black\" points=\"173.21,-112.53 182.28,-107.06 171.78,-105.67 173.21,-112.53\"/>\n",
       "</g>\n",
       "<!-- 4371990720 -->\n",
       "<g id=\"node4\" class=\"node\">\n",
       "<title>4371990720</title>\n",
       "<polygon fill=\"none\" stroke=\"black\" points=\"274.12,-83.5 274.12,-119.5 420.38,-119.5 420.38,-83.5 274.12,-83.5\"/>\n",
       "<text text-anchor=\"middle\" x=\"285.12\" y=\"-96.7\" font-family=\"Times,serif\" font-size=\"14.00\">e</text>\n",
       "<polyline fill=\"none\" stroke=\"black\" points=\"296.12,-84 296.12,-119.5\"/>\n",
       "<text text-anchor=\"middle\" x=\"338.25\" y=\"-96.7\" font-family=\"Times,serif\" font-size=\"14.00\">data &#45;6.0000</text>\n",
       "<polyline fill=\"none\" stroke=\"black\" points=\"380.38,-84 380.38,-119.5\"/>\n",
       "<text text-anchor=\"middle\" x=\"400.38\" y=\"-96.7\" font-family=\"Times,serif\" font-size=\"14.00\">grad</text>\n",
       "</g>\n",
       "<!-- 4374027568+ -->\n",
       "<g id=\"node7\" class=\"node\">\n",
       "<title>4374027568+</title>\n",
       "<ellipse fill=\"none\" stroke=\"black\" cx=\"484.5\" cy=\"-73.5\" rx=\"27\" ry=\"18\"/>\n",
       "<text text-anchor=\"middle\" x=\"484.5\" y=\"-68.45\" font-family=\"Times,serif\" font-size=\"14.00\">+</text>\n",
       "</g>\n",
       "<!-- 4371990720&#45;&gt;4374027568+ -->\n",
       "<g id=\"edge6\" class=\"edge\">\n",
       "<title>4371990720&#45;&gt;4374027568+</title>\n",
       "<path fill=\"none\" stroke=\"black\" d=\"M420.63,-86.52C429.85,-84.61 438.95,-82.72 447.24,-81.01\"/>\n",
       "<polygon fill=\"black\" stroke=\"black\" points=\"447.79,-84.47 456.88,-79.01 446.37,-77.61 447.79,-84.47\"/>\n",
       "</g>\n",
       "<!-- 4371990720*&#45;&gt;4371990720 -->\n",
       "<g id=\"edge2\" class=\"edge\">\n",
       "<title>4371990720*&#45;&gt;4371990720</title>\n",
       "<path fill=\"none\" stroke=\"black\" d=\"M237.4,-101.5C244.86,-101.5 253.4,-101.5 262.35,-101.5\"/>\n",
       "<polygon fill=\"black\" stroke=\"black\" points=\"262.33,-105 272.33,-101.5 262.33,-98 262.33,-105\"/>\n",
       "</g>\n",
       "<!-- 4374027568 -->\n",
       "<g id=\"node6\" class=\"node\">\n",
       "<title>4374027568</title>\n",
       "<polygon fill=\"none\" stroke=\"black\" points=\"548.62,-55.5 548.62,-91.5 691.12,-91.5 691.12,-55.5 548.62,-55.5\"/>\n",
       "<text text-anchor=\"middle\" x=\"560\" y=\"-68.7\" font-family=\"Times,serif\" font-size=\"14.00\">d</text>\n",
       "<polyline fill=\"none\" stroke=\"black\" points=\"571.38,-56 571.38,-91.5\"/>\n",
       "<text text-anchor=\"middle\" x=\"611.25\" y=\"-68.7\" font-family=\"Times,serif\" font-size=\"14.00\">data 4.0000</text>\n",
       "<polyline fill=\"none\" stroke=\"black\" points=\"651.12,-56 651.12,-91.5\"/>\n",
       "<text text-anchor=\"middle\" x=\"671.12\" y=\"-68.7\" font-family=\"Times,serif\" font-size=\"14.00\">grad</text>\n",
       "</g>\n",
       "<!-- 4374027568&#45;&gt;4373872144* -->\n",
       "<g id=\"edge5\" class=\"edge\">\n",
       "<title>4374027568&#45;&gt;4373872144*</title>\n",
       "<path fill=\"none\" stroke=\"black\" d=\"M691.47,-58.68C700.64,-56.75 709.72,-54.85 717.99,-53.11\"/>\n",
       "<polygon fill=\"black\" stroke=\"black\" points=\"718.55,-56.57 727.61,-51.09 717.11,-49.72 718.55,-56.57\"/>\n",
       "</g>\n",
       "<!-- 4374027568+&#45;&gt;4374027568 -->\n",
       "<g id=\"edge3\" class=\"edge\">\n",
       "<title>4374027568+&#45;&gt;4374027568</title>\n",
       "<path fill=\"none\" stroke=\"black\" d=\"M511.85,-73.5C519.32,-73.5 527.88,-73.5 536.82,-73.5\"/>\n",
       "<polygon fill=\"black\" stroke=\"black\" points=\"536.8,-77 546.8,-73.5 536.8,-70 536.8,-77\"/>\n",
       "</g>\n",
       "<!-- 4371720016 -->\n",
       "<g id=\"node8\" class=\"node\">\n",
       "<title>4371720016</title>\n",
       "<polygon fill=\"none\" stroke=\"black\" points=\"2.62,-56.5 2.62,-92.5 144.38,-92.5 144.38,-56.5 2.62,-56.5\"/>\n",
       "<text text-anchor=\"middle\" x=\"13.62\" y=\"-69.7\" font-family=\"Times,serif\" font-size=\"14.00\">a</text>\n",
       "<polyline fill=\"none\" stroke=\"black\" points=\"24.62,-57 24.62,-92.5\"/>\n",
       "<text text-anchor=\"middle\" x=\"64.5\" y=\"-69.7\" font-family=\"Times,serif\" font-size=\"14.00\">data 2.0000</text>\n",
       "<polyline fill=\"none\" stroke=\"black\" points=\"104.38,-57 104.38,-92.5\"/>\n",
       "<text text-anchor=\"middle\" x=\"124.38\" y=\"-69.7\" font-family=\"Times,serif\" font-size=\"14.00\">grad</text>\n",
       "</g>\n",
       "<!-- 4371720016&#45;&gt;4371990720* -->\n",
       "<g id=\"edge9\" class=\"edge\">\n",
       "<title>4371720016&#45;&gt;4371990720*</title>\n",
       "<path fill=\"none\" stroke=\"black\" d=\"M144.51,-88.55C154.16,-90.49 163.74,-92.41 172.45,-94.16\"/>\n",
       "<polygon fill=\"black\" stroke=\"black\" points=\"171.72,-97.59 182.22,-96.12 173.1,-90.72 171.72,-97.59\"/>\n",
       "</g>\n",
       "<!-- 4374026672 -->\n",
       "<g id=\"node9\" class=\"node\">\n",
       "<title>4374026672</title>\n",
       "<polygon fill=\"none\" stroke=\"black\" points=\"547.5,-0.5 547.5,-36.5 692.25,-36.5 692.25,-0.5 547.5,-0.5\"/>\n",
       "<text text-anchor=\"middle\" x=\"557.75\" y=\"-13.7\" font-family=\"Times,serif\" font-size=\"14.00\">f</text>\n",
       "<polyline fill=\"none\" stroke=\"black\" points=\"568,-1 568,-36.5\"/>\n",
       "<text text-anchor=\"middle\" x=\"610.12\" y=\"-13.7\" font-family=\"Times,serif\" font-size=\"14.00\">data &#45;2.0000</text>\n",
       "<polyline fill=\"none\" stroke=\"black\" points=\"652.25,-1 652.25,-36.5\"/>\n",
       "<text text-anchor=\"middle\" x=\"672.25\" y=\"-13.7\" font-family=\"Times,serif\" font-size=\"14.00\">grad</text>\n",
       "</g>\n",
       "<!-- 4374026672&#45;&gt;4373872144* -->\n",
       "<g id=\"edge4\" class=\"edge\">\n",
       "<title>4374026672&#45;&gt;4373872144*</title>\n",
       "<path fill=\"none\" stroke=\"black\" d=\"M692.64,-33.03C701.42,-34.81 710.08,-36.56 718.02,-38.17\"/>\n",
       "<polygon fill=\"black\" stroke=\"black\" points=\"717.06,-41.54 727.56,-40.1 718.45,-34.68 717.06,-41.54\"/>\n",
       "</g>\n",
       "<!-- 4371990480 -->\n",
       "<g id=\"node10\" class=\"node\">\n",
       "<title>4371990480</title>\n",
       "<polygon fill=\"none\" stroke=\"black\" points=\"273,-28.5 273,-64.5 421.5,-64.5 421.5,-28.5 273,-28.5\"/>\n",
       "<text text-anchor=\"middle\" x=\"284\" y=\"-41.7\" font-family=\"Times,serif\" font-size=\"14.00\">c</text>\n",
       "<polyline fill=\"none\" stroke=\"black\" points=\"295,-29 295,-64.5\"/>\n",
       "<text text-anchor=\"middle\" x=\"338.25\" y=\"-41.7\" font-family=\"Times,serif\" font-size=\"14.00\">data 10.0000</text>\n",
       "<polyline fill=\"none\" stroke=\"black\" points=\"381.5,-29 381.5,-64.5\"/>\n",
       "<text text-anchor=\"middle\" x=\"401.5\" y=\"-41.7\" font-family=\"Times,serif\" font-size=\"14.00\">grad</text>\n",
       "</g>\n",
       "<!-- 4371990480&#45;&gt;4374027568+ -->\n",
       "<g id=\"edge8\" class=\"edge\">\n",
       "<title>4371990480&#45;&gt;4374027568+</title>\n",
       "<path fill=\"none\" stroke=\"black\" d=\"M421.81,-61.19C430.64,-62.95 439.33,-64.68 447.27,-66.27\"/>\n",
       "<polygon fill=\"black\" stroke=\"black\" points=\"446.33,-69.65 456.83,-68.18 447.71,-62.79 446.33,-69.65\"/>\n",
       "</g>\n",
       "</g>\n",
       "</svg>\n"
      ],
      "text/plain": [
       "<graphviz.graphs.Digraph at 0x1047f8e10>"
      ]
     },
     "execution_count": 14,
     "metadata": {},
     "output_type": "execute_result"
    }
   ],
   "source": [
    "draw_network(L)"
   ]
  }
 ],
 "metadata": {
  "kernelspec": {
   "display_name": "py3_13",
   "language": "python",
   "name": "python3"
  },
  "language_info": {
   "codemirror_mode": {
    "name": "ipython",
    "version": 3
   },
   "file_extension": ".py",
   "mimetype": "text/x-python",
   "name": "python",
   "nbconvert_exporter": "python",
   "pygments_lexer": "ipython3",
   "version": "3.13.1"
  }
 },
 "nbformat": 4,
 "nbformat_minor": 2
}

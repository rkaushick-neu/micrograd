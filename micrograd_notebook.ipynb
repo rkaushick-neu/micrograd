{
 "cells": [
  {
   "cell_type": "markdown",
   "metadata": {},
   "source": [
    "# Micrograd\n",
    "Building neural networks from scratch. \n",
    "\n",
    "## The Neural Network Data Structure"
   ]
  },
  {
   "cell_type": "code",
   "execution_count": 1,
   "metadata": {},
   "outputs": [],
   "source": [
    "class Value:\n",
    "\n",
    "    def __init__(self, data: float) -> None:\n",
    "        self.data = data\n",
    "\n",
    "    # if we are printing an object of Value class, it will automatically call this function\n",
    "    def __repr__(self) -> str:\n",
    "        return f\"Value(data={self.data})\""
   ]
  },
  {
   "cell_type": "code",
   "execution_count": 2,
   "metadata": {},
   "outputs": [],
   "source": [
    "class Value:\n",
    "\n",
    "    def __init__(self, data: float, _children=(), _operator='', label='') -> None:\n",
    "        self.data = data\n",
    "        self._prev = set(_children)\n",
    "        self._operator = _operator\n",
    "        self.label = label\n",
    "\n",
    "    # if we are printing an object of Value class, \n",
    "    # it will automatically call this function\n",
    "    # similar to toString method in Java\n",
    "    def __repr__(self) -> str:\n",
    "        return f\"Value(data={self.data})\"\n",
    "    \n",
    "    def __add__(self, other: Value) -> Value:\n",
    "        out = Value(data=(self.data + other.data), _children=(self, other), _operator='+')\n",
    "        return out\n",
    "    \n",
    "    def __mul__(self, other: Value) -> Value:\n",
    "        out = Value(data=self.data * other.data, _children=(self, other), _operator='*')\n",
    "        return out\n",
    "\n",
    "    # probably not required but added it anyway\n",
    "    def __sub__(self, other: Value) -> Value:\n",
    "        out = Value(data=self.data - other.data, _children=(self, other), _operator='-')\n",
    "        return out\n",
    "    \n",
    "    # probably not required but added it anyway\n",
    "    # truediv is called when we perform a/b\n",
    "    def __truediv__(self, other: Value) -> Value:\n",
    "        out = Value(data=self.data / other.data, _children=(self, other), _operator='/')\n",
    "        return out"
   ]
  },
  {
   "cell_type": "code",
   "execution_count": 3,
   "metadata": {},
   "outputs": [
    {
     "name": "stdout",
     "output_type": "stream",
     "text": [
      "Value(data=3.0)\n"
     ]
    }
   ],
   "source": [
    "a = Value(3.0, label='a')\n",
    "print(a)"
   ]
  },
  {
   "cell_type": "code",
   "execution_count": 4,
   "metadata": {},
   "outputs": [
    {
     "data": {
      "text/plain": [
       "Value(data=-1.0)"
      ]
     },
     "execution_count": 4,
     "metadata": {},
     "output_type": "execute_result"
    }
   ],
   "source": [
    "b = Value(-1.0, label='b')\n",
    "b"
   ]
  },
  {
   "cell_type": "code",
   "execution_count": 5,
   "metadata": {},
   "outputs": [
    {
     "data": {
      "text/plain": [
       "Value(data=2.0)"
      ]
     },
     "execution_count": 5,
     "metadata": {},
     "output_type": "execute_result"
    }
   ],
   "source": [
    "a+b"
   ]
  },
  {
   "cell_type": "markdown",
   "metadata": {},
   "source": [
    "Internally it performs \n",
    "```python\n",
    "    a.__add__(b)\n",
    "```"
   ]
  },
  {
   "cell_type": "code",
   "execution_count": 6,
   "metadata": {},
   "outputs": [
    {
     "data": {
      "text/plain": [
       "Value(data=-3.0)"
      ]
     },
     "execution_count": 6,
     "metadata": {},
     "output_type": "execute_result"
    }
   ],
   "source": [
    "a*b"
   ]
  },
  {
   "cell_type": "markdown",
   "metadata": {},
   "source": [
    "Internally it performs \n",
    "```python\n",
    "    a.__mul__(b)\n",
    "```"
   ]
  },
  {
   "cell_type": "code",
   "execution_count": 7,
   "metadata": {},
   "outputs": [],
   "source": [
    "c = Value(20, label='c')"
   ]
  },
  {
   "cell_type": "code",
   "execution_count": 8,
   "metadata": {},
   "outputs": [
    {
     "data": {
      "text/plain": [
       "Value(data=-17.0)"
      ]
     },
     "execution_count": 8,
     "metadata": {},
     "output_type": "execute_result"
    }
   ],
   "source": [
    "a+b*c"
   ]
  },
  {
   "cell_type": "markdown",
   "metadata": {},
   "source": [
    "**a + b * c** follows BODMAS rule i.e.\n",
    "- completes b*c first\n",
    "- adds a to the above result"
   ]
  },
  {
   "cell_type": "markdown",
   "metadata": {},
   "source": [
    "## After Adding Children & Operator"
   ]
  },
  {
   "cell_type": "code",
   "execution_count": 9,
   "metadata": {},
   "outputs": [],
   "source": [
    "d = a+b\n",
    "d.label = 'd'"
   ]
  },
  {
   "cell_type": "code",
   "execution_count": 10,
   "metadata": {},
   "outputs": [
    {
     "name": "stdout",
     "output_type": "stream",
     "text": [
      "d =  Value(data=2.0)\n",
      "d prev =  {Value(data=-1.0), Value(data=3.0)}\n",
      "d operator =  +\n",
      "d label =  d\n"
     ]
    }
   ],
   "source": [
    "print(\"d = \", d)\n",
    "print(\"d prev = \", d._prev)\n",
    "print(\"d operator = \", d._operator)\n",
    "print(\"d label = \", d.label)"
   ]
  },
  {
   "cell_type": "markdown",
   "metadata": {},
   "source": [
    "## Graphing the Neurons"
   ]
  },
  {
   "cell_type": "code",
   "execution_count": 11,
   "metadata": {},
   "outputs": [],
   "source": [
    "from graphviz import Digraph\n",
    "\n",
    "# build set of nodes and edges in the graph\n",
    "def trace(root: Value):\n",
    "    nodes, edges = set(), set()\n",
    "    def build(v):\n",
    "        if v not in nodes:\n",
    "            nodes.add(v)\n",
    "            for child in v._prev:\n",
    "                edges.add((child, v))\n",
    "                build(child)\n",
    "    build(root)\n",
    "    return nodes, edges\n",
    "\n",
    "def draw_network(root: Value) -> Digraph:\n",
    "    dot = Digraph(format='svg', graph_attr={'rankdir': 'LR'}) # rank direction LR -> left to right\n",
    "\n",
    "    nodes, edges = trace(root)\n",
    "    for n in nodes:\n",
    "        uid = str(id(n))\n",
    "        dot.node(name=uid, label=\"{ %s | data %.4f | grad }\" % (n.label, n.data), shape='record')\n",
    "        # if the resulting node is result of a mathematical operation:\n",
    "        if(n._operator):\n",
    "            # creating an operation node\n",
    "            dot.node(name=uid+n._operator, label=n._operator)\n",
    "            # connecting it with the node\n",
    "            dot.edge(uid + n._operator, uid)\n",
    "    \n",
    "    for n1, n2 in edges:\n",
    "        dot.edge(str(id(n1)), str(id(n2)) + n2._operator)\n",
    "    \n",
    "    return dot"
   ]
  },
  {
   "cell_type": "code",
   "execution_count": 12,
   "metadata": {},
   "outputs": [
    {
     "data": {
      "image/svg+xml": [
       "<?xml version=\"1.0\" encoding=\"UTF-8\" standalone=\"no\"?>\n",
       "<!DOCTYPE svg PUBLIC \"-//W3C//DTD SVG 1.1//EN\"\n",
       " \"http://www.w3.org/Graphics/SVG/1.1/DTD/svg11.dtd\">\n",
       "<!-- Generated by graphviz version 12.1.2 (20240928.0832)\n",
       " -->\n",
       "<!-- Pages: 1 -->\n",
       "<svg width=\"424pt\" height=\"100pt\"\n",
       " viewBox=\"0.00 0.00 423.50 100.00\" xmlns=\"http://www.w3.org/2000/svg\" xmlns:xlink=\"http://www.w3.org/1999/xlink\">\n",
       "<g id=\"graph0\" class=\"graph\" transform=\"scale(1 1) rotate(0) translate(4 96)\">\n",
       "<polygon fill=\"white\" stroke=\"none\" points=\"-4,4 -4,-96 419.5,-96 419.5,4 -4,4\"/>\n",
       "<!-- 4369807520 -->\n",
       "<g id=\"node1\" class=\"node\">\n",
       "<title>4369807520</title>\n",
       "<polygon fill=\"none\" stroke=\"black\" points=\"273,-27.5 273,-63.5 415.5,-63.5 415.5,-27.5 273,-27.5\"/>\n",
       "<text text-anchor=\"middle\" x=\"284.38\" y=\"-40.7\" font-family=\"Times,serif\" font-size=\"14.00\">d</text>\n",
       "<polyline fill=\"none\" stroke=\"black\" points=\"295.75,-28 295.75,-63.5\"/>\n",
       "<text text-anchor=\"middle\" x=\"335.62\" y=\"-40.7\" font-family=\"Times,serif\" font-size=\"14.00\">data 2.0000</text>\n",
       "<polyline fill=\"none\" stroke=\"black\" points=\"375.5,-28 375.5,-63.5\"/>\n",
       "<text text-anchor=\"middle\" x=\"395.5\" y=\"-40.7\" font-family=\"Times,serif\" font-size=\"14.00\">grad</text>\n",
       "</g>\n",
       "<!-- 4369807520+ -->\n",
       "<g id=\"node2\" class=\"node\">\n",
       "<title>4369807520+</title>\n",
       "<ellipse fill=\"none\" stroke=\"black\" cx=\"210\" cy=\"-45.5\" rx=\"27\" ry=\"18\"/>\n",
       "<text text-anchor=\"middle\" x=\"210\" y=\"-40.45\" font-family=\"Times,serif\" font-size=\"14.00\">+</text>\n",
       "</g>\n",
       "<!-- 4369807520+&#45;&gt;4369807520 -->\n",
       "<g id=\"edge1\" class=\"edge\">\n",
       "<title>4369807520+&#45;&gt;4369807520</title>\n",
       "<path fill=\"none\" stroke=\"black\" d=\"M237.44,-45.5C244.63,-45.5 252.8,-45.5 261.34,-45.5\"/>\n",
       "<polygon fill=\"black\" stroke=\"black\" points=\"261.22,-49 271.22,-45.5 261.22,-42 261.22,-49\"/>\n",
       "</g>\n",
       "<!-- 4369395664 -->\n",
       "<g id=\"node3\" class=\"node\">\n",
       "<title>4369395664</title>\n",
       "<polygon fill=\"none\" stroke=\"black\" points=\"0,-55.5 0,-91.5 147,-91.5 147,-55.5 0,-55.5\"/>\n",
       "<text text-anchor=\"middle\" x=\"11.38\" y=\"-68.7\" font-family=\"Times,serif\" font-size=\"14.00\">b</text>\n",
       "<polyline fill=\"none\" stroke=\"black\" points=\"22.75,-56 22.75,-91.5\"/>\n",
       "<text text-anchor=\"middle\" x=\"64.88\" y=\"-68.7\" font-family=\"Times,serif\" font-size=\"14.00\">data &#45;1.0000</text>\n",
       "<polyline fill=\"none\" stroke=\"black\" points=\"107,-56 107,-91.5\"/>\n",
       "<text text-anchor=\"middle\" x=\"127\" y=\"-68.7\" font-family=\"Times,serif\" font-size=\"14.00\">grad</text>\n",
       "</g>\n",
       "<!-- 4369395664&#45;&gt;4369807520+ -->\n",
       "<g id=\"edge3\" class=\"edge\">\n",
       "<title>4369395664&#45;&gt;4369807520+</title>\n",
       "<path fill=\"none\" stroke=\"black\" d=\"M147.26,-58.35C156.08,-56.52 164.77,-54.71 172.72,-53.05\"/>\n",
       "<polygon fill=\"black\" stroke=\"black\" points=\"173.21,-56.53 182.28,-51.06 171.78,-49.67 173.21,-56.53\"/>\n",
       "</g>\n",
       "<!-- 4371394784 -->\n",
       "<g id=\"node4\" class=\"node\">\n",
       "<title>4371394784</title>\n",
       "<polygon fill=\"none\" stroke=\"black\" points=\"2.62,-0.5 2.62,-36.5 144.38,-36.5 144.38,-0.5 2.62,-0.5\"/>\n",
       "<text text-anchor=\"middle\" x=\"13.62\" y=\"-13.7\" font-family=\"Times,serif\" font-size=\"14.00\">a</text>\n",
       "<polyline fill=\"none\" stroke=\"black\" points=\"24.62,-1 24.62,-36.5\"/>\n",
       "<text text-anchor=\"middle\" x=\"64.5\" y=\"-13.7\" font-family=\"Times,serif\" font-size=\"14.00\">data 3.0000</text>\n",
       "<polyline fill=\"none\" stroke=\"black\" points=\"104.38,-1 104.38,-36.5\"/>\n",
       "<text text-anchor=\"middle\" x=\"124.38\" y=\"-13.7\" font-family=\"Times,serif\" font-size=\"14.00\">grad</text>\n",
       "</g>\n",
       "<!-- 4371394784&#45;&gt;4369807520+ -->\n",
       "<g id=\"edge2\" class=\"edge\">\n",
       "<title>4371394784&#45;&gt;4369807520+</title>\n",
       "<path fill=\"none\" stroke=\"black\" d=\"M144.51,-32.55C154.16,-34.49 163.74,-36.41 172.45,-38.16\"/>\n",
       "<polygon fill=\"black\" stroke=\"black\" points=\"171.72,-41.59 182.22,-40.12 173.1,-34.72 171.72,-41.59\"/>\n",
       "</g>\n",
       "</g>\n",
       "</svg>\n"
      ],
      "text/plain": [
       "<graphviz.graphs.Digraph at 0x104940590>"
      ]
     },
     "execution_count": 12,
     "metadata": {},
     "output_type": "execute_result"
    }
   ],
   "source": [
    "draw_network(d)"
   ]
  }
 ],
 "metadata": {
  "kernelspec": {
   "display_name": "py3_13",
   "language": "python",
   "name": "python3"
  },
  "language_info": {
   "codemirror_mode": {
    "name": "ipython",
    "version": 3
   },
   "file_extension": ".py",
   "mimetype": "text/x-python",
   "name": "python",
   "nbconvert_exporter": "python",
   "pygments_lexer": "ipython3",
   "version": "3.13.1"
  }
 },
 "nbformat": 4,
 "nbformat_minor": 2
}

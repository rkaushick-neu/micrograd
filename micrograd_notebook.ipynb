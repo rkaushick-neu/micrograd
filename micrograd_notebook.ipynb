{
 "cells": [
  {
   "cell_type": "markdown",
   "metadata": {},
   "source": [
    "# Micrograd\n",
    "Building neural networks from scratch. \n",
    "\n",
    "## The Neural Network Data Structure"
   ]
  },
  {
   "cell_type": "code",
   "execution_count": 1,
   "metadata": {},
   "outputs": [],
   "source": [
    "# imports\n",
    "import math\n",
    "import numpy as np\n",
    "import matplotlib.pyplot as plt\n",
    "%matplotlib inline"
   ]
  },
  {
   "cell_type": "code",
   "execution_count": 2,
   "metadata": {},
   "outputs": [],
   "source": [
    "class Value:\n",
    "\n",
    "    def __init__(self, data: float) -> None:\n",
    "        self.data = data\n",
    "\n",
    "    # if we are printing an object of Value class, it will automatically call this function\n",
    "    def __repr__(self) -> str:\n",
    "        return f\"Value(data={self.data})\""
   ]
  },
  {
   "cell_type": "code",
   "execution_count": 3,
   "metadata": {},
   "outputs": [],
   "source": [
    "class Value:\n",
    "\n",
    "    def __init__(self, data: float, _children=(), _operator='', label='') -> None:\n",
    "        self.data = data\n",
    "        self.gradient = 0.0 # initially this has no effect on the output, so 0\n",
    "        self._prev = set(_children)\n",
    "        self._operator = _operator\n",
    "        self.label = label\n",
    "\n",
    "    # if we are printing an object of Value class, \n",
    "    # it will automatically call this function\n",
    "    # similar to toString method in Java\n",
    "    def __repr__(self) -> str:\n",
    "        return f\"Value(data={self.data})\"\n",
    "    \n",
    "    def __add__(self, other: Value) -> Value:\n",
    "        out = Value(data=(self.data + other.data), _children=(self, other), _operator='+')\n",
    "        return out\n",
    "    \n",
    "    def __mul__(self, other: Value) -> Value:\n",
    "        out = Value(data=self.data * other.data, _children=(self, other), _operator='*')\n",
    "        return out\n",
    "\n",
    "    # probably not required but added it anyway\n",
    "    def __sub__(self, other: Value) -> Value:\n",
    "        out = Value(data=self.data - other.data, _children=(self, other), _operator='-')\n",
    "        return out\n",
    "    \n",
    "    # probably not required but added it anyway\n",
    "    # truediv is called when we perform a/b\n",
    "    def __truediv__(self, other: Value) -> Value:\n",
    "        out = Value(data=self.data / other.data, _children=(self, other), _operator='/')\n",
    "        return out\n",
    "\n",
    "    def tanh(self) -> Value:\n",
    "        x = self.data\n",
    "        t = (math.exp(2*x) - 1) / (math.exp(2*x) + 1)\n",
    "        out = Value(data=t, _children=(self,), _operator='tanh')\n",
    "        return out"
   ]
  },
  {
   "cell_type": "code",
   "execution_count": 4,
   "metadata": {},
   "outputs": [
    {
     "name": "stdout",
     "output_type": "stream",
     "text": [
      "Value(data=3.0)\n"
     ]
    }
   ],
   "source": [
    "a = Value(3.0, label='a')\n",
    "print(a)"
   ]
  },
  {
   "cell_type": "code",
   "execution_count": 5,
   "metadata": {},
   "outputs": [
    {
     "data": {
      "text/plain": [
       "Value(data=-1.0)"
      ]
     },
     "execution_count": 5,
     "metadata": {},
     "output_type": "execute_result"
    }
   ],
   "source": [
    "b = Value(-1.0, label='b')\n",
    "b"
   ]
  },
  {
   "cell_type": "code",
   "execution_count": 6,
   "metadata": {},
   "outputs": [
    {
     "data": {
      "text/plain": [
       "Value(data=2.0)"
      ]
     },
     "execution_count": 6,
     "metadata": {},
     "output_type": "execute_result"
    }
   ],
   "source": [
    "a+b"
   ]
  },
  {
   "cell_type": "markdown",
   "metadata": {},
   "source": [
    "Internally it performs \n",
    "```python\n",
    "    a.__add__(b)\n",
    "```"
   ]
  },
  {
   "cell_type": "code",
   "execution_count": 7,
   "metadata": {},
   "outputs": [
    {
     "data": {
      "text/plain": [
       "Value(data=-3.0)"
      ]
     },
     "execution_count": 7,
     "metadata": {},
     "output_type": "execute_result"
    }
   ],
   "source": [
    "a*b"
   ]
  },
  {
   "cell_type": "markdown",
   "metadata": {},
   "source": [
    "Internally it performs \n",
    "```python\n",
    "    a.__mul__(b)\n",
    "```"
   ]
  },
  {
   "cell_type": "code",
   "execution_count": 8,
   "metadata": {},
   "outputs": [],
   "source": [
    "c = Value(20, label='c')"
   ]
  },
  {
   "cell_type": "code",
   "execution_count": 9,
   "metadata": {},
   "outputs": [
    {
     "data": {
      "text/plain": [
       "Value(data=-17.0)"
      ]
     },
     "execution_count": 9,
     "metadata": {},
     "output_type": "execute_result"
    }
   ],
   "source": [
    "a+b*c"
   ]
  },
  {
   "cell_type": "markdown",
   "metadata": {},
   "source": [
    "**a + b * c** follows BODMAS rule i.e.\n",
    "- completes b*c first\n",
    "- adds a to the above result"
   ]
  },
  {
   "cell_type": "markdown",
   "metadata": {},
   "source": [
    "## After Adding Children & Operator"
   ]
  },
  {
   "cell_type": "code",
   "execution_count": 10,
   "metadata": {},
   "outputs": [],
   "source": [
    "d = a+b\n",
    "d.label = 'd'"
   ]
  },
  {
   "cell_type": "code",
   "execution_count": 11,
   "metadata": {},
   "outputs": [
    {
     "name": "stdout",
     "output_type": "stream",
     "text": [
      "d =  Value(data=2.0)\n",
      "d prev =  {Value(data=3.0), Value(data=-1.0)}\n",
      "d operator =  +\n",
      "d label =  d\n"
     ]
    }
   ],
   "source": [
    "print(\"d = \", d)\n",
    "print(\"d prev = \", d._prev)\n",
    "print(\"d operator = \", d._operator)\n",
    "print(\"d label = \", d.label)"
   ]
  },
  {
   "cell_type": "markdown",
   "metadata": {},
   "source": [
    "## Graphing the Neurons"
   ]
  },
  {
   "cell_type": "code",
   "execution_count": 12,
   "metadata": {},
   "outputs": [],
   "source": [
    "from graphviz import Digraph\n",
    "\n",
    "# build set of nodes and edges in the graph\n",
    "def trace(root: Value):\n",
    "    nodes, edges = set(), set()\n",
    "    def build(v):\n",
    "        if v not in nodes:\n",
    "            nodes.add(v)\n",
    "            for child in v._prev:\n",
    "                edges.add((child, v))\n",
    "                build(child)\n",
    "    build(root)\n",
    "    return nodes, edges\n",
    "\n",
    "def draw_network(root: Value) -> Digraph:\n",
    "    dot = Digraph(format='svg', graph_attr={'rankdir': 'LR'}) # rank direction LR -> left to right\n",
    "\n",
    "    nodes, edges = trace(root)\n",
    "    for n in nodes:\n",
    "        uid = str(id(n))\n",
    "        dot.node(name=uid, label=\"{ %s | data %.4f | gradient %.4f }\" % (n.label, n.data, n.gradient), shape='record')\n",
    "        # if the resulting node is result of a mathematical operation:\n",
    "        if(n._operator):\n",
    "            # creating an operation node\n",
    "            dot.node(name=uid+n._operator, label=n._operator)\n",
    "            # connecting it with the node\n",
    "            dot.edge(uid + n._operator, uid)\n",
    "    \n",
    "    for n1, n2 in edges:\n",
    "        dot.edge(str(id(n1)), str(id(n2)) + n2._operator)\n",
    "    \n",
    "    return dot"
   ]
  },
  {
   "cell_type": "code",
   "execution_count": 13,
   "metadata": {},
   "outputs": [
    {
     "data": {
      "image/svg+xml": [
       "<?xml version=\"1.0\" encoding=\"UTF-8\" standalone=\"no\"?>\n",
       "<!DOCTYPE svg PUBLIC \"-//W3C//DTD SVG 1.1//EN\"\n",
       " \"http://www.w3.org/Graphics/SVG/1.1/DTD/svg11.dtd\">\n",
       "<!-- Generated by graphviz version 12.1.2 (20240928.0832)\n",
       " -->\n",
       "<!-- Pages: 1 -->\n",
       "<svg width=\"547pt\" height=\"100pt\"\n",
       " viewBox=\"0.00 0.00 546.50 100.00\" xmlns=\"http://www.w3.org/2000/svg\" xmlns:xlink=\"http://www.w3.org/1999/xlink\">\n",
       "<g id=\"graph0\" class=\"graph\" transform=\"scale(1 1) rotate(0) translate(4 96)\">\n",
       "<polygon fill=\"white\" stroke=\"none\" points=\"-4,4 -4,-96 542.5,-96 542.5,4 -4,4\"/>\n",
       "<!-- 4588027392 -->\n",
       "<g id=\"node1\" class=\"node\">\n",
       "<title>4588027392</title>\n",
       "<polygon fill=\"none\" stroke=\"black\" points=\"2.62,-55.5 2.62,-91.5 205.88,-91.5 205.88,-55.5 2.62,-55.5\"/>\n",
       "<text text-anchor=\"middle\" x=\"13.62\" y=\"-68.7\" font-family=\"Times,serif\" font-size=\"14.00\">a</text>\n",
       "<polyline fill=\"none\" stroke=\"black\" points=\"24.62,-56 24.62,-91.5\"/>\n",
       "<text text-anchor=\"middle\" x=\"64.5\" y=\"-68.7\" font-family=\"Times,serif\" font-size=\"14.00\">data 3.0000</text>\n",
       "<polyline fill=\"none\" stroke=\"black\" points=\"104.38,-56 104.38,-91.5\"/>\n",
       "<text text-anchor=\"middle\" x=\"155.12\" y=\"-68.7\" font-family=\"Times,serif\" font-size=\"14.00\">gradient 0.0000</text>\n",
       "</g>\n",
       "<!-- 4587992432+ -->\n",
       "<g id=\"node4\" class=\"node\">\n",
       "<title>4587992432+</title>\n",
       "<ellipse fill=\"none\" stroke=\"black\" cx=\"271.5\" cy=\"-45.5\" rx=\"27\" ry=\"18\"/>\n",
       "<text text-anchor=\"middle\" x=\"271.5\" y=\"-40.45\" font-family=\"Times,serif\" font-size=\"14.00\">+</text>\n",
       "</g>\n",
       "<!-- 4588027392&#45;&gt;4587992432+ -->\n",
       "<g id=\"edge2\" class=\"edge\">\n",
       "<title>4588027392&#45;&gt;4587992432+</title>\n",
       "<path fill=\"none\" stroke=\"black\" d=\"M206.14,-56.41C215.82,-54.77 225.15,-53.18 233.56,-51.76\"/>\n",
       "<polygon fill=\"black\" stroke=\"black\" points=\"234.01,-55.23 243.28,-50.11 232.84,-48.33 234.01,-55.23\"/>\n",
       "</g>\n",
       "<!-- 4420775888 -->\n",
       "<g id=\"node2\" class=\"node\">\n",
       "<title>4420775888</title>\n",
       "<polygon fill=\"none\" stroke=\"black\" points=\"0,-0.5 0,-36.5 208.5,-36.5 208.5,-0.5 0,-0.5\"/>\n",
       "<text text-anchor=\"middle\" x=\"11.38\" y=\"-13.7\" font-family=\"Times,serif\" font-size=\"14.00\">b</text>\n",
       "<polyline fill=\"none\" stroke=\"black\" points=\"22.75,-1 22.75,-36.5\"/>\n",
       "<text text-anchor=\"middle\" x=\"64.88\" y=\"-13.7\" font-family=\"Times,serif\" font-size=\"14.00\">data &#45;1.0000</text>\n",
       "<polyline fill=\"none\" stroke=\"black\" points=\"107,-1 107,-36.5\"/>\n",
       "<text text-anchor=\"middle\" x=\"157.75\" y=\"-13.7\" font-family=\"Times,serif\" font-size=\"14.00\">gradient 0.0000</text>\n",
       "</g>\n",
       "<!-- 4420775888&#45;&gt;4587992432+ -->\n",
       "<g id=\"edge3\" class=\"edge\">\n",
       "<title>4420775888&#45;&gt;4587992432+</title>\n",
       "<path fill=\"none\" stroke=\"black\" d=\"M208.97,-35.45C217.65,-36.86 226,-38.23 233.59,-39.47\"/>\n",
       "<polygon fill=\"black\" stroke=\"black\" points=\"232.92,-42.91 243.36,-41.06 234.05,-36 232.92,-42.91\"/>\n",
       "</g>\n",
       "<!-- 4587992432 -->\n",
       "<g id=\"node3\" class=\"node\">\n",
       "<title>4587992432</title>\n",
       "<polygon fill=\"none\" stroke=\"black\" points=\"334.5,-27.5 334.5,-63.5 538.5,-63.5 538.5,-27.5 334.5,-27.5\"/>\n",
       "<text text-anchor=\"middle\" x=\"345.88\" y=\"-40.7\" font-family=\"Times,serif\" font-size=\"14.00\">d</text>\n",
       "<polyline fill=\"none\" stroke=\"black\" points=\"357.25,-28 357.25,-63.5\"/>\n",
       "<text text-anchor=\"middle\" x=\"397.12\" y=\"-40.7\" font-family=\"Times,serif\" font-size=\"14.00\">data 2.0000</text>\n",
       "<polyline fill=\"none\" stroke=\"black\" points=\"437,-28 437,-63.5\"/>\n",
       "<text text-anchor=\"middle\" x=\"487.75\" y=\"-40.7\" font-family=\"Times,serif\" font-size=\"14.00\">gradient 0.0000</text>\n",
       "</g>\n",
       "<!-- 4587992432+&#45;&gt;4587992432 -->\n",
       "<g id=\"edge1\" class=\"edge\">\n",
       "<title>4587992432+&#45;&gt;4587992432</title>\n",
       "<path fill=\"none\" stroke=\"black\" d=\"M298.69,-45.5C305.84,-45.5 314.06,-45.5 322.86,-45.5\"/>\n",
       "<polygon fill=\"black\" stroke=\"black\" points=\"322.75,-49 332.75,-45.5 322.75,-42 322.75,-49\"/>\n",
       "</g>\n",
       "</g>\n",
       "</svg>\n"
      ],
      "text/plain": [
       "<graphviz.graphs.Digraph at 0x111a84440>"
      ]
     },
     "execution_count": 13,
     "metadata": {},
     "output_type": "execute_result"
    }
   ],
   "source": [
    "draw_network(d)"
   ]
  },
  {
   "cell_type": "code",
   "execution_count": 14,
   "metadata": {},
   "outputs": [
    {
     "data": {
      "text/plain": [
       "Value(data=-8.0)"
      ]
     },
     "execution_count": 14,
     "metadata": {},
     "output_type": "execute_result"
    }
   ],
   "source": [
    "a = Value(2.0, label='a')\n",
    "b = Value(-3.0, label='b')\n",
    "c = Value(10.0, label='c')\n",
    "e = a*b; e.label = 'e'\n",
    "d = e + c; d.label = 'd'\n",
    "f = Value(-2.0, label='f')\n",
    "L = d * f; L.label = 'L'\n",
    "L"
   ]
  },
  {
   "cell_type": "code",
   "execution_count": 15,
   "metadata": {},
   "outputs": [
    {
     "data": {
      "image/svg+xml": [
       "<?xml version=\"1.0\" encoding=\"UTF-8\" standalone=\"no\"?>\n",
       "<!DOCTYPE svg PUBLIC \"-//W3C//DTD SVG 1.1//EN\"\n",
       " \"http://www.w3.org/Graphics/SVG/1.1/DTD/svg11.dtd\">\n",
       "<!-- Generated by graphviz version 12.1.2 (20240928.0832)\n",
       " -->\n",
       "<!-- Pages: 1 -->\n",
       "<svg width=\"1221pt\" height=\"154pt\"\n",
       " viewBox=\"0.00 0.00 1220.75 154.00\" xmlns=\"http://www.w3.org/2000/svg\" xmlns:xlink=\"http://www.w3.org/1999/xlink\">\n",
       "<g id=\"graph0\" class=\"graph\" transform=\"scale(1 1) rotate(0) translate(4 150)\">\n",
       "<polygon fill=\"white\" stroke=\"none\" points=\"-4,4 -4,-150 1216.75,-150 1216.75,4 -4,4\"/>\n",
       "<!-- 4591310384 -->\n",
       "<g id=\"node1\" class=\"node\">\n",
       "<title>4591310384</title>\n",
       "<polygon fill=\"none\" stroke=\"black\" points=\"670.5,-109.5 670.5,-145.5 876.75,-145.5 876.75,-109.5 670.5,-109.5\"/>\n",
       "<text text-anchor=\"middle\" x=\"680.75\" y=\"-122.7\" font-family=\"Times,serif\" font-size=\"14.00\">f</text>\n",
       "<polyline fill=\"none\" stroke=\"black\" points=\"691,-110 691,-145.5\"/>\n",
       "<text text-anchor=\"middle\" x=\"733.12\" y=\"-122.7\" font-family=\"Times,serif\" font-size=\"14.00\">data &#45;2.0000</text>\n",
       "<polyline fill=\"none\" stroke=\"black\" points=\"775.25,-110 775.25,-145.5\"/>\n",
       "<text text-anchor=\"middle\" x=\"826\" y=\"-122.7\" font-family=\"Times,serif\" font-size=\"14.00\">gradient 0.0000</text>\n",
       "</g>\n",
       "<!-- 4591329696* -->\n",
       "<g id=\"node10\" class=\"node\">\n",
       "<title>4591329696*</title>\n",
       "<ellipse fill=\"none\" stroke=\"black\" cx=\"939.75\" cy=\"-99.5\" rx=\"27\" ry=\"18\"/>\n",
       "<text text-anchor=\"middle\" x=\"939.75\" y=\"-94.45\" font-family=\"Times,serif\" font-size=\"14.00\">*</text>\n",
       "</g>\n",
       "<!-- 4591310384&#45;&gt;4591329696* -->\n",
       "<g id=\"edge7\" class=\"edge\">\n",
       "<title>4591310384&#45;&gt;4591329696*</title>\n",
       "<path fill=\"none\" stroke=\"black\" d=\"M877.17,-110.01C885.84,-108.53 894.19,-107.1 901.79,-105.81\"/>\n",
       "<polygon fill=\"black\" stroke=\"black\" points=\"902.3,-109.27 911.57,-104.14 901.12,-102.37 902.3,-109.27\"/>\n",
       "</g>\n",
       "<!-- 4588416576 -->\n",
       "<g id=\"node2\" class=\"node\">\n",
       "<title>4588416576</title>\n",
       "<polygon fill=\"none\" stroke=\"black\" points=\"334.5,-82.5 334.5,-118.5 544.5,-118.5 544.5,-82.5 334.5,-82.5\"/>\n",
       "<text text-anchor=\"middle\" x=\"345.5\" y=\"-95.7\" font-family=\"Times,serif\" font-size=\"14.00\">c</text>\n",
       "<polyline fill=\"none\" stroke=\"black\" points=\"356.5,-83 356.5,-118.5\"/>\n",
       "<text text-anchor=\"middle\" x=\"399.75\" y=\"-95.7\" font-family=\"Times,serif\" font-size=\"14.00\">data 10.0000</text>\n",
       "<polyline fill=\"none\" stroke=\"black\" points=\"443,-83 443,-118.5\"/>\n",
       "<text text-anchor=\"middle\" x=\"493.75\" y=\"-95.7\" font-family=\"Times,serif\" font-size=\"14.00\">gradient 0.0000</text>\n",
       "</g>\n",
       "<!-- 4591313296+ -->\n",
       "<g id=\"node8\" class=\"node\">\n",
       "<title>4591313296+</title>\n",
       "<ellipse fill=\"none\" stroke=\"black\" cx=\"607.5\" cy=\"-72.5\" rx=\"27\" ry=\"18\"/>\n",
       "<text text-anchor=\"middle\" x=\"607.5\" y=\"-67.45\" font-family=\"Times,serif\" font-size=\"14.00\">+</text>\n",
       "</g>\n",
       "<!-- 4588416576&#45;&gt;4591313296+ -->\n",
       "<g id=\"edge5\" class=\"edge\">\n",
       "<title>4588416576&#45;&gt;4591313296+</title>\n",
       "<path fill=\"none\" stroke=\"black\" d=\"M544.69,-82.93C553.6,-81.42 562.16,-79.98 569.92,-78.67\"/>\n",
       "<polygon fill=\"black\" stroke=\"black\" points=\"570.26,-82.16 579.54,-77.05 569.1,-75.26 570.26,-82.16\"/>\n",
       "</g>\n",
       "<!-- 4590774864 -->\n",
       "<g id=\"node3\" class=\"node\">\n",
       "<title>4590774864</title>\n",
       "<polygon fill=\"none\" stroke=\"black\" points=\"2.62,-55.5 2.62,-91.5 205.88,-91.5 205.88,-55.5 2.62,-55.5\"/>\n",
       "<text text-anchor=\"middle\" x=\"13.62\" y=\"-68.7\" font-family=\"Times,serif\" font-size=\"14.00\">a</text>\n",
       "<polyline fill=\"none\" stroke=\"black\" points=\"24.62,-56 24.62,-91.5\"/>\n",
       "<text text-anchor=\"middle\" x=\"64.5\" y=\"-68.7\" font-family=\"Times,serif\" font-size=\"14.00\">data 2.0000</text>\n",
       "<polyline fill=\"none\" stroke=\"black\" points=\"104.38,-56 104.38,-91.5\"/>\n",
       "<text text-anchor=\"middle\" x=\"155.12\" y=\"-68.7\" font-family=\"Times,serif\" font-size=\"14.00\">gradient 0.0000</text>\n",
       "</g>\n",
       "<!-- 4588416816* -->\n",
       "<g id=\"node5\" class=\"node\">\n",
       "<title>4588416816*</title>\n",
       "<ellipse fill=\"none\" stroke=\"black\" cx=\"271.5\" cy=\"-45.5\" rx=\"27\" ry=\"18\"/>\n",
       "<text text-anchor=\"middle\" x=\"271.5\" y=\"-40.45\" font-family=\"Times,serif\" font-size=\"14.00\">*</text>\n",
       "</g>\n",
       "<!-- 4590774864&#45;&gt;4588416816* -->\n",
       "<g id=\"edge6\" class=\"edge\">\n",
       "<title>4590774864&#45;&gt;4588416816*</title>\n",
       "<path fill=\"none\" stroke=\"black\" d=\"M206.14,-56.41C215.82,-54.77 225.15,-53.18 233.56,-51.76\"/>\n",
       "<polygon fill=\"black\" stroke=\"black\" points=\"234.01,-55.23 243.28,-50.11 232.84,-48.33 234.01,-55.23\"/>\n",
       "</g>\n",
       "<!-- 4588416816 -->\n",
       "<g id=\"node4\" class=\"node\">\n",
       "<title>4588416816</title>\n",
       "<polygon fill=\"none\" stroke=\"black\" points=\"335.62,-27.5 335.62,-63.5 543.38,-63.5 543.38,-27.5 335.62,-27.5\"/>\n",
       "<text text-anchor=\"middle\" x=\"346.62\" y=\"-40.7\" font-family=\"Times,serif\" font-size=\"14.00\">e</text>\n",
       "<polyline fill=\"none\" stroke=\"black\" points=\"357.62,-28 357.62,-63.5\"/>\n",
       "<text text-anchor=\"middle\" x=\"399.75\" y=\"-40.7\" font-family=\"Times,serif\" font-size=\"14.00\">data &#45;6.0000</text>\n",
       "<polyline fill=\"none\" stroke=\"black\" points=\"441.88,-28 441.88,-63.5\"/>\n",
       "<text text-anchor=\"middle\" x=\"492.62\" y=\"-40.7\" font-family=\"Times,serif\" font-size=\"14.00\">gradient 0.0000</text>\n",
       "</g>\n",
       "<!-- 4588416816&#45;&gt;4591313296+ -->\n",
       "<g id=\"edge9\" class=\"edge\">\n",
       "<title>4588416816&#45;&gt;4591313296+</title>\n",
       "<path fill=\"none\" stroke=\"black\" d=\"M543.74,-62.29C552.85,-63.77 561.61,-65.2 569.55,-66.49\"/>\n",
       "<polygon fill=\"black\" stroke=\"black\" points=\"568.98,-69.94 579.41,-68.09 570.1,-63.03 568.98,-69.94\"/>\n",
       "</g>\n",
       "<!-- 4588416816*&#45;&gt;4588416816 -->\n",
       "<g id=\"edge1\" class=\"edge\">\n",
       "<title>4588416816*&#45;&gt;4588416816</title>\n",
       "<path fill=\"none\" stroke=\"black\" d=\"M298.8,-45.5C306.21,-45.5 314.78,-45.5 323.94,-45.5\"/>\n",
       "<polygon fill=\"black\" stroke=\"black\" points=\"323.88,-49 333.88,-45.5 323.88,-42 323.88,-49\"/>\n",
       "</g>\n",
       "<!-- 4590775120 -->\n",
       "<g id=\"node6\" class=\"node\">\n",
       "<title>4590775120</title>\n",
       "<polygon fill=\"none\" stroke=\"black\" points=\"0,-0.5 0,-36.5 208.5,-36.5 208.5,-0.5 0,-0.5\"/>\n",
       "<text text-anchor=\"middle\" x=\"11.38\" y=\"-13.7\" font-family=\"Times,serif\" font-size=\"14.00\">b</text>\n",
       "<polyline fill=\"none\" stroke=\"black\" points=\"22.75,-1 22.75,-36.5\"/>\n",
       "<text text-anchor=\"middle\" x=\"64.88\" y=\"-13.7\" font-family=\"Times,serif\" font-size=\"14.00\">data &#45;3.0000</text>\n",
       "<polyline fill=\"none\" stroke=\"black\" points=\"107,-1 107,-36.5\"/>\n",
       "<text text-anchor=\"middle\" x=\"157.75\" y=\"-13.7\" font-family=\"Times,serif\" font-size=\"14.00\">gradient 0.0000</text>\n",
       "</g>\n",
       "<!-- 4590775120&#45;&gt;4588416816* -->\n",
       "<g id=\"edge8\" class=\"edge\">\n",
       "<title>4590775120&#45;&gt;4588416816*</title>\n",
       "<path fill=\"none\" stroke=\"black\" d=\"M208.97,-35.45C217.65,-36.86 226,-38.23 233.59,-39.47\"/>\n",
       "<polygon fill=\"black\" stroke=\"black\" points=\"232.92,-42.91 243.36,-41.06 234.05,-36 232.92,-42.91\"/>\n",
       "</g>\n",
       "<!-- 4591313296 -->\n",
       "<g id=\"node7\" class=\"node\">\n",
       "<title>4591313296</title>\n",
       "<polygon fill=\"none\" stroke=\"black\" points=\"671.62,-54.5 671.62,-90.5 875.62,-90.5 875.62,-54.5 671.62,-54.5\"/>\n",
       "<text text-anchor=\"middle\" x=\"683\" y=\"-67.7\" font-family=\"Times,serif\" font-size=\"14.00\">d</text>\n",
       "<polyline fill=\"none\" stroke=\"black\" points=\"694.38,-55 694.38,-90.5\"/>\n",
       "<text text-anchor=\"middle\" x=\"734.25\" y=\"-67.7\" font-family=\"Times,serif\" font-size=\"14.00\">data 4.0000</text>\n",
       "<polyline fill=\"none\" stroke=\"black\" points=\"774.12,-55 774.12,-90.5\"/>\n",
       "<text text-anchor=\"middle\" x=\"824.88\" y=\"-67.7\" font-family=\"Times,serif\" font-size=\"14.00\">gradient 0.0000</text>\n",
       "</g>\n",
       "<!-- 4591313296&#45;&gt;4591329696* -->\n",
       "<g id=\"edge4\" class=\"edge\">\n",
       "<title>4591313296&#45;&gt;4591329696*</title>\n",
       "<path fill=\"none\" stroke=\"black\" d=\"M875.76,-89.14C884.98,-90.65 893.86,-92.12 901.9,-93.44\"/>\n",
       "<polygon fill=\"black\" stroke=\"black\" points=\"901.09,-96.85 911.52,-95.02 902.22,-89.94 901.09,-96.85\"/>\n",
       "</g>\n",
       "<!-- 4591313296+&#45;&gt;4591313296 -->\n",
       "<g id=\"edge2\" class=\"edge\">\n",
       "<title>4591313296+&#45;&gt;4591313296</title>\n",
       "<path fill=\"none\" stroke=\"black\" d=\"M634.87,-72.5C642.28,-72.5 650.83,-72.5 659.98,-72.5\"/>\n",
       "<polygon fill=\"black\" stroke=\"black\" points=\"659.88,-76 669.88,-72.5 659.88,-69 659.88,-76\"/>\n",
       "</g>\n",
       "<!-- 4591329696 -->\n",
       "<g id=\"node9\" class=\"node\">\n",
       "<title>4591329696</title>\n",
       "<polygon fill=\"none\" stroke=\"black\" points=\"1002.75,-81.5 1002.75,-117.5 1212.75,-117.5 1212.75,-81.5 1002.75,-81.5\"/>\n",
       "<text text-anchor=\"middle\" x=\"1014.88\" y=\"-94.7\" font-family=\"Times,serif\" font-size=\"14.00\">L</text>\n",
       "<polyline fill=\"none\" stroke=\"black\" points=\"1027,-82 1027,-117.5\"/>\n",
       "<text text-anchor=\"middle\" x=\"1069.12\" y=\"-94.7\" font-family=\"Times,serif\" font-size=\"14.00\">data &#45;8.0000</text>\n",
       "<polyline fill=\"none\" stroke=\"black\" points=\"1111.25,-82 1111.25,-117.5\"/>\n",
       "<text text-anchor=\"middle\" x=\"1162\" y=\"-94.7\" font-family=\"Times,serif\" font-size=\"14.00\">gradient 0.0000</text>\n",
       "</g>\n",
       "<!-- 4591329696*&#45;&gt;4591329696 -->\n",
       "<g id=\"edge3\" class=\"edge\">\n",
       "<title>4591329696*&#45;&gt;4591329696</title>\n",
       "<path fill=\"none\" stroke=\"black\" d=\"M967.05,-99.5C974.19,-99.5 982.39,-99.5 991.18,-99.5\"/>\n",
       "<polygon fill=\"black\" stroke=\"black\" points=\"991.06,-103 1001.06,-99.5 991.06,-96 991.06,-103\"/>\n",
       "</g>\n",
       "</g>\n",
       "</svg>\n"
      ],
      "text/plain": [
       "<graphviz.graphs.Digraph at 0x111a3cf50>"
      ]
     },
     "execution_count": 15,
     "metadata": {},
     "output_type": "execute_result"
    }
   ],
   "source": [
    "draw_network(L)"
   ]
  },
  {
   "cell_type": "markdown",
   "metadata": {},
   "source": [
    "## Manual Back-Propagation"
   ]
  },
  {
   "cell_type": "markdown",
   "metadata": {},
   "source": [
    "### Calculus: Definition of a Derivative as a Limit\n",
    "\n",
    "```math\n",
    "\\frac{d}{dx} f(x) = \\lim_{h \\to 0} \\frac{f(x + h) - f(x)}{h}\n",
    "```"
   ]
  },
  {
   "cell_type": "markdown",
   "metadata": {},
   "source": [
    "Starting from the last value node - L. \n",
    "\n",
    "The gradient of L with respect to itself is 1."
   ]
  },
  {
   "cell_type": "code",
   "execution_count": 16,
   "metadata": {},
   "outputs": [],
   "source": [
    "L.gradient = 1"
   ]
  },
  {
   "cell_type": "code",
   "execution_count": 17,
   "metadata": {},
   "outputs": [
    {
     "data": {
      "image/svg+xml": [
       "<?xml version=\"1.0\" encoding=\"UTF-8\" standalone=\"no\"?>\n",
       "<!DOCTYPE svg PUBLIC \"-//W3C//DTD SVG 1.1//EN\"\n",
       " \"http://www.w3.org/Graphics/SVG/1.1/DTD/svg11.dtd\">\n",
       "<!-- Generated by graphviz version 12.1.2 (20240928.0832)\n",
       " -->\n",
       "<!-- Pages: 1 -->\n",
       "<svg width=\"1221pt\" height=\"154pt\"\n",
       " viewBox=\"0.00 0.00 1220.75 154.00\" xmlns=\"http://www.w3.org/2000/svg\" xmlns:xlink=\"http://www.w3.org/1999/xlink\">\n",
       "<g id=\"graph0\" class=\"graph\" transform=\"scale(1 1) rotate(0) translate(4 150)\">\n",
       "<polygon fill=\"white\" stroke=\"none\" points=\"-4,4 -4,-150 1216.75,-150 1216.75,4 -4,4\"/>\n",
       "<!-- 4591310384 -->\n",
       "<g id=\"node1\" class=\"node\">\n",
       "<title>4591310384</title>\n",
       "<polygon fill=\"none\" stroke=\"black\" points=\"670.5,-109.5 670.5,-145.5 876.75,-145.5 876.75,-109.5 670.5,-109.5\"/>\n",
       "<text text-anchor=\"middle\" x=\"680.75\" y=\"-122.7\" font-family=\"Times,serif\" font-size=\"14.00\">f</text>\n",
       "<polyline fill=\"none\" stroke=\"black\" points=\"691,-110 691,-145.5\"/>\n",
       "<text text-anchor=\"middle\" x=\"733.12\" y=\"-122.7\" font-family=\"Times,serif\" font-size=\"14.00\">data &#45;2.0000</text>\n",
       "<polyline fill=\"none\" stroke=\"black\" points=\"775.25,-110 775.25,-145.5\"/>\n",
       "<text text-anchor=\"middle\" x=\"826\" y=\"-122.7\" font-family=\"Times,serif\" font-size=\"14.00\">gradient 0.0000</text>\n",
       "</g>\n",
       "<!-- 4591329696* -->\n",
       "<g id=\"node10\" class=\"node\">\n",
       "<title>4591329696*</title>\n",
       "<ellipse fill=\"none\" stroke=\"black\" cx=\"939.75\" cy=\"-99.5\" rx=\"27\" ry=\"18\"/>\n",
       "<text text-anchor=\"middle\" x=\"939.75\" y=\"-94.45\" font-family=\"Times,serif\" font-size=\"14.00\">*</text>\n",
       "</g>\n",
       "<!-- 4591310384&#45;&gt;4591329696* -->\n",
       "<g id=\"edge7\" class=\"edge\">\n",
       "<title>4591310384&#45;&gt;4591329696*</title>\n",
       "<path fill=\"none\" stroke=\"black\" d=\"M877.17,-110.01C885.84,-108.53 894.19,-107.1 901.79,-105.81\"/>\n",
       "<polygon fill=\"black\" stroke=\"black\" points=\"902.3,-109.27 911.57,-104.14 901.12,-102.37 902.3,-109.27\"/>\n",
       "</g>\n",
       "<!-- 4588416576 -->\n",
       "<g id=\"node2\" class=\"node\">\n",
       "<title>4588416576</title>\n",
       "<polygon fill=\"none\" stroke=\"black\" points=\"334.5,-82.5 334.5,-118.5 544.5,-118.5 544.5,-82.5 334.5,-82.5\"/>\n",
       "<text text-anchor=\"middle\" x=\"345.5\" y=\"-95.7\" font-family=\"Times,serif\" font-size=\"14.00\">c</text>\n",
       "<polyline fill=\"none\" stroke=\"black\" points=\"356.5,-83 356.5,-118.5\"/>\n",
       "<text text-anchor=\"middle\" x=\"399.75\" y=\"-95.7\" font-family=\"Times,serif\" font-size=\"14.00\">data 10.0000</text>\n",
       "<polyline fill=\"none\" stroke=\"black\" points=\"443,-83 443,-118.5\"/>\n",
       "<text text-anchor=\"middle\" x=\"493.75\" y=\"-95.7\" font-family=\"Times,serif\" font-size=\"14.00\">gradient 0.0000</text>\n",
       "</g>\n",
       "<!-- 4591313296+ -->\n",
       "<g id=\"node8\" class=\"node\">\n",
       "<title>4591313296+</title>\n",
       "<ellipse fill=\"none\" stroke=\"black\" cx=\"607.5\" cy=\"-72.5\" rx=\"27\" ry=\"18\"/>\n",
       "<text text-anchor=\"middle\" x=\"607.5\" y=\"-67.45\" font-family=\"Times,serif\" font-size=\"14.00\">+</text>\n",
       "</g>\n",
       "<!-- 4588416576&#45;&gt;4591313296+ -->\n",
       "<g id=\"edge5\" class=\"edge\">\n",
       "<title>4588416576&#45;&gt;4591313296+</title>\n",
       "<path fill=\"none\" stroke=\"black\" d=\"M544.69,-82.93C553.6,-81.42 562.16,-79.98 569.92,-78.67\"/>\n",
       "<polygon fill=\"black\" stroke=\"black\" points=\"570.26,-82.16 579.54,-77.05 569.1,-75.26 570.26,-82.16\"/>\n",
       "</g>\n",
       "<!-- 4590774864 -->\n",
       "<g id=\"node3\" class=\"node\">\n",
       "<title>4590774864</title>\n",
       "<polygon fill=\"none\" stroke=\"black\" points=\"2.62,-55.5 2.62,-91.5 205.88,-91.5 205.88,-55.5 2.62,-55.5\"/>\n",
       "<text text-anchor=\"middle\" x=\"13.62\" y=\"-68.7\" font-family=\"Times,serif\" font-size=\"14.00\">a</text>\n",
       "<polyline fill=\"none\" stroke=\"black\" points=\"24.62,-56 24.62,-91.5\"/>\n",
       "<text text-anchor=\"middle\" x=\"64.5\" y=\"-68.7\" font-family=\"Times,serif\" font-size=\"14.00\">data 2.0000</text>\n",
       "<polyline fill=\"none\" stroke=\"black\" points=\"104.38,-56 104.38,-91.5\"/>\n",
       "<text text-anchor=\"middle\" x=\"155.12\" y=\"-68.7\" font-family=\"Times,serif\" font-size=\"14.00\">gradient 0.0000</text>\n",
       "</g>\n",
       "<!-- 4588416816* -->\n",
       "<g id=\"node5\" class=\"node\">\n",
       "<title>4588416816*</title>\n",
       "<ellipse fill=\"none\" stroke=\"black\" cx=\"271.5\" cy=\"-45.5\" rx=\"27\" ry=\"18\"/>\n",
       "<text text-anchor=\"middle\" x=\"271.5\" y=\"-40.45\" font-family=\"Times,serif\" font-size=\"14.00\">*</text>\n",
       "</g>\n",
       "<!-- 4590774864&#45;&gt;4588416816* -->\n",
       "<g id=\"edge6\" class=\"edge\">\n",
       "<title>4590774864&#45;&gt;4588416816*</title>\n",
       "<path fill=\"none\" stroke=\"black\" d=\"M206.14,-56.41C215.82,-54.77 225.15,-53.18 233.56,-51.76\"/>\n",
       "<polygon fill=\"black\" stroke=\"black\" points=\"234.01,-55.23 243.28,-50.11 232.84,-48.33 234.01,-55.23\"/>\n",
       "</g>\n",
       "<!-- 4588416816 -->\n",
       "<g id=\"node4\" class=\"node\">\n",
       "<title>4588416816</title>\n",
       "<polygon fill=\"none\" stroke=\"black\" points=\"335.62,-27.5 335.62,-63.5 543.38,-63.5 543.38,-27.5 335.62,-27.5\"/>\n",
       "<text text-anchor=\"middle\" x=\"346.62\" y=\"-40.7\" font-family=\"Times,serif\" font-size=\"14.00\">e</text>\n",
       "<polyline fill=\"none\" stroke=\"black\" points=\"357.62,-28 357.62,-63.5\"/>\n",
       "<text text-anchor=\"middle\" x=\"399.75\" y=\"-40.7\" font-family=\"Times,serif\" font-size=\"14.00\">data &#45;6.0000</text>\n",
       "<polyline fill=\"none\" stroke=\"black\" points=\"441.88,-28 441.88,-63.5\"/>\n",
       "<text text-anchor=\"middle\" x=\"492.62\" y=\"-40.7\" font-family=\"Times,serif\" font-size=\"14.00\">gradient 0.0000</text>\n",
       "</g>\n",
       "<!-- 4588416816&#45;&gt;4591313296+ -->\n",
       "<g id=\"edge9\" class=\"edge\">\n",
       "<title>4588416816&#45;&gt;4591313296+</title>\n",
       "<path fill=\"none\" stroke=\"black\" d=\"M543.74,-62.29C552.85,-63.77 561.61,-65.2 569.55,-66.49\"/>\n",
       "<polygon fill=\"black\" stroke=\"black\" points=\"568.98,-69.94 579.41,-68.09 570.1,-63.03 568.98,-69.94\"/>\n",
       "</g>\n",
       "<!-- 4588416816*&#45;&gt;4588416816 -->\n",
       "<g id=\"edge1\" class=\"edge\">\n",
       "<title>4588416816*&#45;&gt;4588416816</title>\n",
       "<path fill=\"none\" stroke=\"black\" d=\"M298.8,-45.5C306.21,-45.5 314.78,-45.5 323.94,-45.5\"/>\n",
       "<polygon fill=\"black\" stroke=\"black\" points=\"323.88,-49 333.88,-45.5 323.88,-42 323.88,-49\"/>\n",
       "</g>\n",
       "<!-- 4590775120 -->\n",
       "<g id=\"node6\" class=\"node\">\n",
       "<title>4590775120</title>\n",
       "<polygon fill=\"none\" stroke=\"black\" points=\"0,-0.5 0,-36.5 208.5,-36.5 208.5,-0.5 0,-0.5\"/>\n",
       "<text text-anchor=\"middle\" x=\"11.38\" y=\"-13.7\" font-family=\"Times,serif\" font-size=\"14.00\">b</text>\n",
       "<polyline fill=\"none\" stroke=\"black\" points=\"22.75,-1 22.75,-36.5\"/>\n",
       "<text text-anchor=\"middle\" x=\"64.88\" y=\"-13.7\" font-family=\"Times,serif\" font-size=\"14.00\">data &#45;3.0000</text>\n",
       "<polyline fill=\"none\" stroke=\"black\" points=\"107,-1 107,-36.5\"/>\n",
       "<text text-anchor=\"middle\" x=\"157.75\" y=\"-13.7\" font-family=\"Times,serif\" font-size=\"14.00\">gradient 0.0000</text>\n",
       "</g>\n",
       "<!-- 4590775120&#45;&gt;4588416816* -->\n",
       "<g id=\"edge8\" class=\"edge\">\n",
       "<title>4590775120&#45;&gt;4588416816*</title>\n",
       "<path fill=\"none\" stroke=\"black\" d=\"M208.97,-35.45C217.65,-36.86 226,-38.23 233.59,-39.47\"/>\n",
       "<polygon fill=\"black\" stroke=\"black\" points=\"232.92,-42.91 243.36,-41.06 234.05,-36 232.92,-42.91\"/>\n",
       "</g>\n",
       "<!-- 4591313296 -->\n",
       "<g id=\"node7\" class=\"node\">\n",
       "<title>4591313296</title>\n",
       "<polygon fill=\"none\" stroke=\"black\" points=\"671.62,-54.5 671.62,-90.5 875.62,-90.5 875.62,-54.5 671.62,-54.5\"/>\n",
       "<text text-anchor=\"middle\" x=\"683\" y=\"-67.7\" font-family=\"Times,serif\" font-size=\"14.00\">d</text>\n",
       "<polyline fill=\"none\" stroke=\"black\" points=\"694.38,-55 694.38,-90.5\"/>\n",
       "<text text-anchor=\"middle\" x=\"734.25\" y=\"-67.7\" font-family=\"Times,serif\" font-size=\"14.00\">data 4.0000</text>\n",
       "<polyline fill=\"none\" stroke=\"black\" points=\"774.12,-55 774.12,-90.5\"/>\n",
       "<text text-anchor=\"middle\" x=\"824.88\" y=\"-67.7\" font-family=\"Times,serif\" font-size=\"14.00\">gradient 0.0000</text>\n",
       "</g>\n",
       "<!-- 4591313296&#45;&gt;4591329696* -->\n",
       "<g id=\"edge4\" class=\"edge\">\n",
       "<title>4591313296&#45;&gt;4591329696*</title>\n",
       "<path fill=\"none\" stroke=\"black\" d=\"M875.76,-89.14C884.98,-90.65 893.86,-92.12 901.9,-93.44\"/>\n",
       "<polygon fill=\"black\" stroke=\"black\" points=\"901.09,-96.85 911.52,-95.02 902.22,-89.94 901.09,-96.85\"/>\n",
       "</g>\n",
       "<!-- 4591313296+&#45;&gt;4591313296 -->\n",
       "<g id=\"edge2\" class=\"edge\">\n",
       "<title>4591313296+&#45;&gt;4591313296</title>\n",
       "<path fill=\"none\" stroke=\"black\" d=\"M634.87,-72.5C642.28,-72.5 650.83,-72.5 659.98,-72.5\"/>\n",
       "<polygon fill=\"black\" stroke=\"black\" points=\"659.88,-76 669.88,-72.5 659.88,-69 659.88,-76\"/>\n",
       "</g>\n",
       "<!-- 4591329696 -->\n",
       "<g id=\"node9\" class=\"node\">\n",
       "<title>4591329696</title>\n",
       "<polygon fill=\"none\" stroke=\"black\" points=\"1002.75,-81.5 1002.75,-117.5 1212.75,-117.5 1212.75,-81.5 1002.75,-81.5\"/>\n",
       "<text text-anchor=\"middle\" x=\"1014.88\" y=\"-94.7\" font-family=\"Times,serif\" font-size=\"14.00\">L</text>\n",
       "<polyline fill=\"none\" stroke=\"black\" points=\"1027,-82 1027,-117.5\"/>\n",
       "<text text-anchor=\"middle\" x=\"1069.12\" y=\"-94.7\" font-family=\"Times,serif\" font-size=\"14.00\">data &#45;8.0000</text>\n",
       "<polyline fill=\"none\" stroke=\"black\" points=\"1111.25,-82 1111.25,-117.5\"/>\n",
       "<text text-anchor=\"middle\" x=\"1162\" y=\"-94.7\" font-family=\"Times,serif\" font-size=\"14.00\">gradient 1.0000</text>\n",
       "</g>\n",
       "<!-- 4591329696*&#45;&gt;4591329696 -->\n",
       "<g id=\"edge3\" class=\"edge\">\n",
       "<title>4591329696*&#45;&gt;4591329696</title>\n",
       "<path fill=\"none\" stroke=\"black\" d=\"M967.05,-99.5C974.19,-99.5 982.39,-99.5 991.18,-99.5\"/>\n",
       "<polygon fill=\"black\" stroke=\"black\" points=\"991.06,-103 1001.06,-99.5 991.06,-96 991.06,-103\"/>\n",
       "</g>\n",
       "</g>\n",
       "</svg>\n"
      ],
      "text/plain": [
       "<graphviz.graphs.Digraph at 0x111a3ccd0>"
      ]
     },
     "execution_count": 17,
     "metadata": {},
     "output_type": "execute_result"
    }
   ],
   "source": [
    "draw_network(L)"
   ]
  },
  {
   "cell_type": "markdown",
   "metadata": {},
   "source": [
    "Back-propagation is the process of finding out how a previous value affects the final value 'L'.\n",
    "\n",
    "When we back-propagate, we find out what is the effect any of the previous nodes on L:\n",
    "- effect of changing a \n",
    "- effect of changing b\n",
    "- effect of changing e \n",
    "- effect of changing c \n",
    "- effect of changing d \n",
    "- effect of changing f"
   ]
  },
  {
   "cell_type": "code",
   "execution_count": 18,
   "metadata": {},
   "outputs": [
    {
     "name": "stdout",
     "output_type": "stream",
     "text": [
      "6.000000000000227\n"
     ]
    }
   ],
   "source": [
    "def effect_of_a_on_L():\n",
    "    # small step size 'h'\n",
    "    h = 0.001\n",
    "\n",
    "    a = Value(2.0, label='a')\n",
    "    b = Value(-3.0, label='b')\n",
    "    c = Value(10.0, label='c')\n",
    "    e = a*b; e.label = 'e'\n",
    "    d = e + c; d.label = 'd'\n",
    "    f = Value(-2.0, label='f')\n",
    "    L = d * f; L.label = 'L'\n",
    "    L1 = L.data\n",
    "\n",
    "    a = Value(2.0+h, label='a')\n",
    "    b = Value(-3.0, label='b')\n",
    "    c = Value(10.0, label='c')\n",
    "    e = a*b; e.label = 'e'\n",
    "    d = e + c; d.label = 'd'\n",
    "    f = Value(-2.0, label='f')\n",
    "    L = d * f; L.label = 'L'\n",
    "    L2 = L.data\n",
    "\n",
    "    print((L2-L1)/h)\n",
    "effect_of_a_on_L()"
   ]
  },
  {
   "cell_type": "markdown",
   "metadata": {},
   "source": [
    "### How Do 'd' & 'f' Affect 'L"
   ]
  },
  {
   "cell_type": "code",
   "execution_count": 19,
   "metadata": {},
   "outputs": [],
   "source": [
    "# gradient of d with respect to L\n",
    "# L = d * f  or f(d) = d * f\n",
    "# From calculus, we know that:\n",
    "    #  dL/dd = f\n",
    "    # Proof:\n",
    "        # dL/dd = lim h --> 0 ( (f(d+h) - f(d))/h )\n",
    "            #   = lim h --> 0 ( ( (d+h)*f - d*f )/h )\n",
    "            #   = lim h --> 0 ( ( df + hf - df )/h )\n",
    "            #   = lim h --> 0 ( hf / h)\n",
    "            #   =  f\n",
    "d.gradient = f.data\n",
    "\n",
    "# similarly dL/df = d\n",
    "f.gradient = d.data"
   ]
  },
  {
   "cell_type": "code",
   "execution_count": 20,
   "metadata": {},
   "outputs": [
    {
     "name": "stdout",
     "output_type": "stream",
     "text": [
      "3.9999999999995595\n"
     ]
    }
   ],
   "source": [
    "# Confirming the above statement is correct:\n",
    "\n",
    "def effect_of_f_on_L():\n",
    "    # small step size 'h'\n",
    "    h = 0.001\n",
    "\n",
    "    a = Value(2.0, label='a')\n",
    "    b = Value(-3.0, label='b')\n",
    "    c = Value(10.0, label='c')\n",
    "    e = a*b; e.label = 'e'\n",
    "    d = e + c; d.label = 'd'\n",
    "    f = Value(-2.0, label='f')\n",
    "    L = d * f; L.label = 'L'\n",
    "    L1 = L.data\n",
    "\n",
    "    a = Value(2.0, label='a')\n",
    "    b = Value(-3.0, label='b')\n",
    "    c = Value(10.0, label='c')\n",
    "    e = a*b; e.label = 'e'\n",
    "    d = e + c; d.label = 'd'\n",
    "    f = Value(-2.0+h, label='f')\n",
    "    L = d * f; L.label = 'L'\n",
    "    L2 = L.data\n",
    "\n",
    "    print((L2-L1)/h)\n",
    "effect_of_f_on_L()"
   ]
  },
  {
   "cell_type": "markdown",
   "metadata": {},
   "source": [
    "Why don't we get 4 exactly? \n",
    "\n",
    "This is to do with how precise floating point values are stored and performing calculations on those. \n",
    "Interesting read: https://docs.python.org/3/tutorial/floatingpoint.html "
   ]
  },
  {
   "cell_type": "code",
   "execution_count": 21,
   "metadata": {},
   "outputs": [
    {
     "name": "stdout",
     "output_type": "stream",
     "text": [
      "-2.000000000000668\n"
     ]
    }
   ],
   "source": [
    "# Confirming the above statement is correct:\n",
    "\n",
    "def effect_of_d_on_L():\n",
    "    # small step size 'h'\n",
    "    h = 0.001\n",
    "\n",
    "    a = Value(2.0, label='a')\n",
    "    b = Value(-3.0, label='b')\n",
    "    c = Value(10.0, label='c')\n",
    "    e = a*b; e.label = 'e'\n",
    "    d = e + c; d.label = 'd'\n",
    "    f = Value(-2.0, label='f')\n",
    "    L = d * f; L.label = 'L'\n",
    "    L1 = L.data\n",
    "\n",
    "    a = Value(2.0, label='a')\n",
    "    b = Value(-3.0, label='b')\n",
    "    c = Value(10.0, label='c')\n",
    "    e = a*b; e.label = 'e'\n",
    "    d = e + c; d.label = 'd'\n",
    "    d.data += h\n",
    "    f = Value(-2.0, label='f')\n",
    "    L = d * f; L.label = 'L'\n",
    "    L2 = L.data\n",
    "\n",
    "    print((L2-L1)/h)\n",
    "effect_of_d_on_L()"
   ]
  },
  {
   "cell_type": "code",
   "execution_count": 22,
   "metadata": {},
   "outputs": [
    {
     "data": {
      "image/svg+xml": [
       "<?xml version=\"1.0\" encoding=\"UTF-8\" standalone=\"no\"?>\n",
       "<!DOCTYPE svg PUBLIC \"-//W3C//DTD SVG 1.1//EN\"\n",
       " \"http://www.w3.org/Graphics/SVG/1.1/DTD/svg11.dtd\">\n",
       "<!-- Generated by graphviz version 12.1.2 (20240928.0832)\n",
       " -->\n",
       "<!-- Pages: 1 -->\n",
       "<svg width=\"1223pt\" height=\"154pt\"\n",
       " viewBox=\"0.00 0.00 1223.00 154.00\" xmlns=\"http://www.w3.org/2000/svg\" xmlns:xlink=\"http://www.w3.org/1999/xlink\">\n",
       "<g id=\"graph0\" class=\"graph\" transform=\"scale(1 1) rotate(0) translate(4 150)\">\n",
       "<polygon fill=\"white\" stroke=\"none\" points=\"-4,4 -4,-150 1219,-150 1219,4 -4,4\"/>\n",
       "<!-- 4591310384 -->\n",
       "<g id=\"node1\" class=\"node\">\n",
       "<title>4591310384</title>\n",
       "<polygon fill=\"none\" stroke=\"black\" points=\"671.62,-109.5 671.62,-145.5 877.88,-145.5 877.88,-109.5 671.62,-109.5\"/>\n",
       "<text text-anchor=\"middle\" x=\"681.88\" y=\"-122.7\" font-family=\"Times,serif\" font-size=\"14.00\">f</text>\n",
       "<polyline fill=\"none\" stroke=\"black\" points=\"692.12,-110 692.12,-145.5\"/>\n",
       "<text text-anchor=\"middle\" x=\"734.25\" y=\"-122.7\" font-family=\"Times,serif\" font-size=\"14.00\">data &#45;2.0000</text>\n",
       "<polyline fill=\"none\" stroke=\"black\" points=\"776.38,-110 776.38,-145.5\"/>\n",
       "<text text-anchor=\"middle\" x=\"827.12\" y=\"-122.7\" font-family=\"Times,serif\" font-size=\"14.00\">gradient 4.0000</text>\n",
       "</g>\n",
       "<!-- 4591329696* -->\n",
       "<g id=\"node10\" class=\"node\">\n",
       "<title>4591329696*</title>\n",
       "<ellipse fill=\"none\" stroke=\"black\" cx=\"942\" cy=\"-99.5\" rx=\"27\" ry=\"18\"/>\n",
       "<text text-anchor=\"middle\" x=\"942\" y=\"-94.45\" font-family=\"Times,serif\" font-size=\"14.00\">*</text>\n",
       "</g>\n",
       "<!-- 4591310384&#45;&gt;4591329696* -->\n",
       "<g id=\"edge7\" class=\"edge\">\n",
       "<title>4591310384&#45;&gt;4591329696*</title>\n",
       "<path fill=\"none\" stroke=\"black\" d=\"M878.05,-110.17C887.28,-108.6 896.16,-107.1 904.2,-105.74\"/>\n",
       "<polygon fill=\"black\" stroke=\"black\" points=\"904.54,-109.23 913.81,-104.11 903.37,-102.33 904.54,-109.23\"/>\n",
       "</g>\n",
       "<!-- 4588416576 -->\n",
       "<g id=\"node2\" class=\"node\">\n",
       "<title>4588416576</title>\n",
       "<polygon fill=\"none\" stroke=\"black\" points=\"334.5,-82.5 334.5,-118.5 544.5,-118.5 544.5,-82.5 334.5,-82.5\"/>\n",
       "<text text-anchor=\"middle\" x=\"345.5\" y=\"-95.7\" font-family=\"Times,serif\" font-size=\"14.00\">c</text>\n",
       "<polyline fill=\"none\" stroke=\"black\" points=\"356.5,-83 356.5,-118.5\"/>\n",
       "<text text-anchor=\"middle\" x=\"399.75\" y=\"-95.7\" font-family=\"Times,serif\" font-size=\"14.00\">data 10.0000</text>\n",
       "<polyline fill=\"none\" stroke=\"black\" points=\"443,-83 443,-118.5\"/>\n",
       "<text text-anchor=\"middle\" x=\"493.75\" y=\"-95.7\" font-family=\"Times,serif\" font-size=\"14.00\">gradient 0.0000</text>\n",
       "</g>\n",
       "<!-- 4591313296+ -->\n",
       "<g id=\"node8\" class=\"node\">\n",
       "<title>4591313296+</title>\n",
       "<ellipse fill=\"none\" stroke=\"black\" cx=\"607.5\" cy=\"-72.5\" rx=\"27\" ry=\"18\"/>\n",
       "<text text-anchor=\"middle\" x=\"607.5\" y=\"-67.45\" font-family=\"Times,serif\" font-size=\"14.00\">+</text>\n",
       "</g>\n",
       "<!-- 4588416576&#45;&gt;4591313296+ -->\n",
       "<g id=\"edge5\" class=\"edge\">\n",
       "<title>4588416576&#45;&gt;4591313296+</title>\n",
       "<path fill=\"none\" stroke=\"black\" d=\"M544.69,-82.93C553.6,-81.42 562.16,-79.98 569.92,-78.67\"/>\n",
       "<polygon fill=\"black\" stroke=\"black\" points=\"570.26,-82.16 579.54,-77.05 569.1,-75.26 570.26,-82.16\"/>\n",
       "</g>\n",
       "<!-- 4590774864 -->\n",
       "<g id=\"node3\" class=\"node\">\n",
       "<title>4590774864</title>\n",
       "<polygon fill=\"none\" stroke=\"black\" points=\"2.62,-55.5 2.62,-91.5 205.88,-91.5 205.88,-55.5 2.62,-55.5\"/>\n",
       "<text text-anchor=\"middle\" x=\"13.62\" y=\"-68.7\" font-family=\"Times,serif\" font-size=\"14.00\">a</text>\n",
       "<polyline fill=\"none\" stroke=\"black\" points=\"24.62,-56 24.62,-91.5\"/>\n",
       "<text text-anchor=\"middle\" x=\"64.5\" y=\"-68.7\" font-family=\"Times,serif\" font-size=\"14.00\">data 2.0000</text>\n",
       "<polyline fill=\"none\" stroke=\"black\" points=\"104.38,-56 104.38,-91.5\"/>\n",
       "<text text-anchor=\"middle\" x=\"155.12\" y=\"-68.7\" font-family=\"Times,serif\" font-size=\"14.00\">gradient 0.0000</text>\n",
       "</g>\n",
       "<!-- 4588416816* -->\n",
       "<g id=\"node5\" class=\"node\">\n",
       "<title>4588416816*</title>\n",
       "<ellipse fill=\"none\" stroke=\"black\" cx=\"271.5\" cy=\"-45.5\" rx=\"27\" ry=\"18\"/>\n",
       "<text text-anchor=\"middle\" x=\"271.5\" y=\"-40.45\" font-family=\"Times,serif\" font-size=\"14.00\">*</text>\n",
       "</g>\n",
       "<!-- 4590774864&#45;&gt;4588416816* -->\n",
       "<g id=\"edge6\" class=\"edge\">\n",
       "<title>4590774864&#45;&gt;4588416816*</title>\n",
       "<path fill=\"none\" stroke=\"black\" d=\"M206.14,-56.41C215.82,-54.77 225.15,-53.18 233.56,-51.76\"/>\n",
       "<polygon fill=\"black\" stroke=\"black\" points=\"234.01,-55.23 243.28,-50.11 232.84,-48.33 234.01,-55.23\"/>\n",
       "</g>\n",
       "<!-- 4588416816 -->\n",
       "<g id=\"node4\" class=\"node\">\n",
       "<title>4588416816</title>\n",
       "<polygon fill=\"none\" stroke=\"black\" points=\"335.62,-27.5 335.62,-63.5 543.38,-63.5 543.38,-27.5 335.62,-27.5\"/>\n",
       "<text text-anchor=\"middle\" x=\"346.62\" y=\"-40.7\" font-family=\"Times,serif\" font-size=\"14.00\">e</text>\n",
       "<polyline fill=\"none\" stroke=\"black\" points=\"357.62,-28 357.62,-63.5\"/>\n",
       "<text text-anchor=\"middle\" x=\"399.75\" y=\"-40.7\" font-family=\"Times,serif\" font-size=\"14.00\">data &#45;6.0000</text>\n",
       "<polyline fill=\"none\" stroke=\"black\" points=\"441.88,-28 441.88,-63.5\"/>\n",
       "<text text-anchor=\"middle\" x=\"492.62\" y=\"-40.7\" font-family=\"Times,serif\" font-size=\"14.00\">gradient 0.0000</text>\n",
       "</g>\n",
       "<!-- 4588416816&#45;&gt;4591313296+ -->\n",
       "<g id=\"edge9\" class=\"edge\">\n",
       "<title>4588416816&#45;&gt;4591313296+</title>\n",
       "<path fill=\"none\" stroke=\"black\" d=\"M543.74,-62.29C552.85,-63.77 561.61,-65.2 569.55,-66.49\"/>\n",
       "<polygon fill=\"black\" stroke=\"black\" points=\"568.98,-69.94 579.41,-68.09 570.1,-63.03 568.98,-69.94\"/>\n",
       "</g>\n",
       "<!-- 4588416816*&#45;&gt;4588416816 -->\n",
       "<g id=\"edge1\" class=\"edge\">\n",
       "<title>4588416816*&#45;&gt;4588416816</title>\n",
       "<path fill=\"none\" stroke=\"black\" d=\"M298.8,-45.5C306.21,-45.5 314.78,-45.5 323.94,-45.5\"/>\n",
       "<polygon fill=\"black\" stroke=\"black\" points=\"323.88,-49 333.88,-45.5 323.88,-42 323.88,-49\"/>\n",
       "</g>\n",
       "<!-- 4590775120 -->\n",
       "<g id=\"node6\" class=\"node\">\n",
       "<title>4590775120</title>\n",
       "<polygon fill=\"none\" stroke=\"black\" points=\"0,-0.5 0,-36.5 208.5,-36.5 208.5,-0.5 0,-0.5\"/>\n",
       "<text text-anchor=\"middle\" x=\"11.38\" y=\"-13.7\" font-family=\"Times,serif\" font-size=\"14.00\">b</text>\n",
       "<polyline fill=\"none\" stroke=\"black\" points=\"22.75,-1 22.75,-36.5\"/>\n",
       "<text text-anchor=\"middle\" x=\"64.88\" y=\"-13.7\" font-family=\"Times,serif\" font-size=\"14.00\">data &#45;3.0000</text>\n",
       "<polyline fill=\"none\" stroke=\"black\" points=\"107,-1 107,-36.5\"/>\n",
       "<text text-anchor=\"middle\" x=\"157.75\" y=\"-13.7\" font-family=\"Times,serif\" font-size=\"14.00\">gradient 0.0000</text>\n",
       "</g>\n",
       "<!-- 4590775120&#45;&gt;4588416816* -->\n",
       "<g id=\"edge8\" class=\"edge\">\n",
       "<title>4590775120&#45;&gt;4588416816*</title>\n",
       "<path fill=\"none\" stroke=\"black\" d=\"M208.97,-35.45C217.65,-36.86 226,-38.23 233.59,-39.47\"/>\n",
       "<polygon fill=\"black\" stroke=\"black\" points=\"232.92,-42.91 243.36,-41.06 234.05,-36 232.92,-42.91\"/>\n",
       "</g>\n",
       "<!-- 4591313296 -->\n",
       "<g id=\"node7\" class=\"node\">\n",
       "<title>4591313296</title>\n",
       "<polygon fill=\"none\" stroke=\"black\" points=\"670.5,-54.5 670.5,-90.5 879,-90.5 879,-54.5 670.5,-54.5\"/>\n",
       "<text text-anchor=\"middle\" x=\"681.88\" y=\"-67.7\" font-family=\"Times,serif\" font-size=\"14.00\">d</text>\n",
       "<polyline fill=\"none\" stroke=\"black\" points=\"693.25,-55 693.25,-90.5\"/>\n",
       "<text text-anchor=\"middle\" x=\"733.12\" y=\"-67.7\" font-family=\"Times,serif\" font-size=\"14.00\">data 4.0000</text>\n",
       "<polyline fill=\"none\" stroke=\"black\" points=\"773,-55 773,-90.5\"/>\n",
       "<text text-anchor=\"middle\" x=\"826\" y=\"-67.7\" font-family=\"Times,serif\" font-size=\"14.00\">gradient &#45;2.0000</text>\n",
       "</g>\n",
       "<!-- 4591313296&#45;&gt;4591329696* -->\n",
       "<g id=\"edge4\" class=\"edge\">\n",
       "<title>4591313296&#45;&gt;4591329696*</title>\n",
       "<path fill=\"none\" stroke=\"black\" d=\"M879.47,-89.45C888.15,-90.86 896.5,-92.23 904.09,-93.47\"/>\n",
       "<polygon fill=\"black\" stroke=\"black\" points=\"903.42,-96.91 913.86,-95.06 904.55,-90 903.42,-96.91\"/>\n",
       "</g>\n",
       "<!-- 4591313296+&#45;&gt;4591313296 -->\n",
       "<g id=\"edge2\" class=\"edge\">\n",
       "<title>4591313296+&#45;&gt;4591313296</title>\n",
       "<path fill=\"none\" stroke=\"black\" d=\"M634.68,-72.5C641.79,-72.5 649.96,-72.5 658.7,-72.5\"/>\n",
       "<polygon fill=\"black\" stroke=\"black\" points=\"658.54,-76 668.54,-72.5 658.54,-69 658.54,-76\"/>\n",
       "</g>\n",
       "<!-- 4591329696 -->\n",
       "<g id=\"node9\" class=\"node\">\n",
       "<title>4591329696</title>\n",
       "<polygon fill=\"none\" stroke=\"black\" points=\"1005,-81.5 1005,-117.5 1215,-117.5 1215,-81.5 1005,-81.5\"/>\n",
       "<text text-anchor=\"middle\" x=\"1017.12\" y=\"-94.7\" font-family=\"Times,serif\" font-size=\"14.00\">L</text>\n",
       "<polyline fill=\"none\" stroke=\"black\" points=\"1029.25,-82 1029.25,-117.5\"/>\n",
       "<text text-anchor=\"middle\" x=\"1071.38\" y=\"-94.7\" font-family=\"Times,serif\" font-size=\"14.00\">data &#45;8.0000</text>\n",
       "<polyline fill=\"none\" stroke=\"black\" points=\"1113.5,-82 1113.5,-117.5\"/>\n",
       "<text text-anchor=\"middle\" x=\"1164.25\" y=\"-94.7\" font-family=\"Times,serif\" font-size=\"14.00\">gradient 1.0000</text>\n",
       "</g>\n",
       "<!-- 4591329696*&#45;&gt;4591329696 -->\n",
       "<g id=\"edge3\" class=\"edge\">\n",
       "<title>4591329696*&#45;&gt;4591329696</title>\n",
       "<path fill=\"none\" stroke=\"black\" d=\"M969.3,-99.5C976.44,-99.5 984.64,-99.5 993.43,-99.5\"/>\n",
       "<polygon fill=\"black\" stroke=\"black\" points=\"993.31,-103 1003.31,-99.5 993.31,-96 993.31,-103\"/>\n",
       "</g>\n",
       "</g>\n",
       "</svg>\n"
      ],
      "text/plain": [
       "<graphviz.graphs.Digraph at 0x111aec3e0>"
      ]
     },
     "execution_count": 22,
     "metadata": {},
     "output_type": "execute_result"
    }
   ],
   "source": [
    "draw_network(L)"
   ]
  },
  {
   "cell_type": "markdown",
   "metadata": {},
   "source": [
    "### How Do 'e' & 'c' Affect 'L'"
   ]
  },
  {
   "cell_type": "markdown",
   "metadata": {},
   "source": [
    "We know that, 'c' affects 'd' (dd/dc) and 'd' affects 'L' (dL/dd)\n",
    "what's dL/dc?\n",
    "\n",
    "This can be done using the chain rule"
   ]
  },
  {
   "cell_type": "markdown",
   "metadata": {},
   "source": [
    "### Calculus: Chain Rule\n",
    "\n",
    "When z is a function of y, and y is a function of x:\n",
    "```math\n",
    "z = f(y)\n",
    "```\n",
    "```math\n",
    "y = f(x)\n",
    "```\n",
    "Then the chain rule can be stated as:\n",
    "```math\n",
    "\\frac{dz}{dx} = \\frac{dz}{dy} \\cdot \\frac{dy}{dx}\n",
    "```"
   ]
  },
  {
   "cell_type": "markdown",
   "metadata": {},
   "source": [
    "Our network expressions are as follows:\n",
    "```math\n",
    "d = e + c\n",
    "```\n",
    "```math\n",
    "L = d +f\n",
    "```\n",
    "Now using the chain rule, we can see the impact of 'c' on 'L' as:\n",
    "```math\n",
    "\\frac{dL}{dc} = \\frac{dL}{dd} \\cdot \\frac{dd}{dc}\n",
    "```\n",
    "Let's calculate the impact of 'c' on 'd' using the definition of a derivative:\n",
    "```math\n",
    "\\frac{dd}{dc} = \\lim_{h \\to 0} \\frac{f(c + h) - f(c)}{h}\n",
    "```\n",
    "```math\n",
    "\\frac{dd}{dc} = \\lim_{h \\to 0} \\frac{(e+c+h) - (e+c))}{h}\n",
    "```\n",
    "```math\n",
    "\\frac{dd}{dc} = \\lim_{h \\to 0} \\frac{e+c+h-e-c}{h}\n",
    "```\n",
    "```math\n",
    "\\frac{dd}{dc} = \\lim_{h \\to 0} \\frac{h}{h}\n",
    "```\n",
    "```math\n",
    "\\frac{dd}{dc} = 1\n",
    "```\n",
    "Also, we already know that \n",
    "```math\n",
    "\\frac{dL}{dd} = -2\n",
    "```\n",
    "Now putting it all together in the chain rule:\n",
    "```math\n",
    "\\therefore \\frac{dL}{dc} = -2 \\times 1 = -2\n",
    "```\n",
    "\n",
    "Similarly using the chain rule, we can see the impact of 'e' on 'L' as:\n",
    "```math\n",
    "\\frac{dL}{de} = \\frac{dL}{dd} \\cdot \\frac{dd}{de}\n",
    "```\n",
    "```math\n",
    "\\frac{dd}{de} = 1\n",
    "```\n",
    "```math\n",
    "\\therefore \\frac{dL}{de} = 1 \\times -2 = -2\n",
    "```\n"
   ]
  },
  {
   "cell_type": "markdown",
   "metadata": {},
   "source": [
    "Local derivatives of functions with a '+' operation, will always have derivate = 1. \n",
    "\n",
    "Andrej also explains how we can think of this as the gradient of the next node (d) being routed to the gradient of the child nodes (e and c). In this case the gradient of 'd' which is -2 is also the gradient of 'c' and 'e' (since d = e+c)"
   ]
  },
  {
   "cell_type": "code",
   "execution_count": 23,
   "metadata": {},
   "outputs": [],
   "source": [
    "# for '+' operations: route the parent's gradient to children\n",
    "e.gradient = d.gradient\n",
    "c.gradient = d.gradient"
   ]
  },
  {
   "cell_type": "code",
   "execution_count": 24,
   "metadata": {},
   "outputs": [
    {
     "data": {
      "image/svg+xml": [
       "<?xml version=\"1.0\" encoding=\"UTF-8\" standalone=\"no\"?>\n",
       "<!DOCTYPE svg PUBLIC \"-//W3C//DTD SVG 1.1//EN\"\n",
       " \"http://www.w3.org/Graphics/SVG/1.1/DTD/svg11.dtd\">\n",
       "<!-- Generated by graphviz version 12.1.2 (20240928.0832)\n",
       " -->\n",
       "<!-- Pages: 1 -->\n",
       "<svg width=\"1228pt\" height=\"154pt\"\n",
       " viewBox=\"0.00 0.00 1227.50 154.00\" xmlns=\"http://www.w3.org/2000/svg\" xmlns:xlink=\"http://www.w3.org/1999/xlink\">\n",
       "<g id=\"graph0\" class=\"graph\" transform=\"scale(1 1) rotate(0) translate(4 150)\">\n",
       "<polygon fill=\"white\" stroke=\"none\" points=\"-4,4 -4,-150 1223.5,-150 1223.5,4 -4,4\"/>\n",
       "<!-- 4591310384 -->\n",
       "<g id=\"node1\" class=\"node\">\n",
       "<title>4591310384</title>\n",
       "<polygon fill=\"none\" stroke=\"black\" points=\"676.12,-109.5 676.12,-145.5 882.38,-145.5 882.38,-109.5 676.12,-109.5\"/>\n",
       "<text text-anchor=\"middle\" x=\"686.38\" y=\"-122.7\" font-family=\"Times,serif\" font-size=\"14.00\">f</text>\n",
       "<polyline fill=\"none\" stroke=\"black\" points=\"696.62,-110 696.62,-145.5\"/>\n",
       "<text text-anchor=\"middle\" x=\"738.75\" y=\"-122.7\" font-family=\"Times,serif\" font-size=\"14.00\">data &#45;2.0000</text>\n",
       "<polyline fill=\"none\" stroke=\"black\" points=\"780.88,-110 780.88,-145.5\"/>\n",
       "<text text-anchor=\"middle\" x=\"831.62\" y=\"-122.7\" font-family=\"Times,serif\" font-size=\"14.00\">gradient 4.0000</text>\n",
       "</g>\n",
       "<!-- 4591329696* -->\n",
       "<g id=\"node10\" class=\"node\">\n",
       "<title>4591329696*</title>\n",
       "<ellipse fill=\"none\" stroke=\"black\" cx=\"946.5\" cy=\"-99.5\" rx=\"27\" ry=\"18\"/>\n",
       "<text text-anchor=\"middle\" x=\"946.5\" y=\"-94.45\" font-family=\"Times,serif\" font-size=\"14.00\">*</text>\n",
       "</g>\n",
       "<!-- 4591310384&#45;&gt;4591329696* -->\n",
       "<g id=\"edge7\" class=\"edge\">\n",
       "<title>4591310384&#45;&gt;4591329696*</title>\n",
       "<path fill=\"none\" stroke=\"black\" d=\"M882.55,-110.17C891.78,-108.6 900.66,-107.1 908.7,-105.74\"/>\n",
       "<polygon fill=\"black\" stroke=\"black\" points=\"909.04,-109.23 918.31,-104.11 907.87,-102.33 909.04,-109.23\"/>\n",
       "</g>\n",
       "<!-- 4588416576 -->\n",
       "<g id=\"node2\" class=\"node\">\n",
       "<title>4588416576</title>\n",
       "<polygon fill=\"none\" stroke=\"black\" points=\"334.5,-82.5 334.5,-118.5 549,-118.5 549,-82.5 334.5,-82.5\"/>\n",
       "<text text-anchor=\"middle\" x=\"345.5\" y=\"-95.7\" font-family=\"Times,serif\" font-size=\"14.00\">c</text>\n",
       "<polyline fill=\"none\" stroke=\"black\" points=\"356.5,-83 356.5,-118.5\"/>\n",
       "<text text-anchor=\"middle\" x=\"399.75\" y=\"-95.7\" font-family=\"Times,serif\" font-size=\"14.00\">data 10.0000</text>\n",
       "<polyline fill=\"none\" stroke=\"black\" points=\"443,-83 443,-118.5\"/>\n",
       "<text text-anchor=\"middle\" x=\"496\" y=\"-95.7\" font-family=\"Times,serif\" font-size=\"14.00\">gradient &#45;2.0000</text>\n",
       "</g>\n",
       "<!-- 4591313296+ -->\n",
       "<g id=\"node8\" class=\"node\">\n",
       "<title>4591313296+</title>\n",
       "<ellipse fill=\"none\" stroke=\"black\" cx=\"612\" cy=\"-72.5\" rx=\"27\" ry=\"18\"/>\n",
       "<text text-anchor=\"middle\" x=\"612\" y=\"-67.45\" font-family=\"Times,serif\" font-size=\"14.00\">+</text>\n",
       "</g>\n",
       "<!-- 4588416576&#45;&gt;4591313296+ -->\n",
       "<g id=\"edge5\" class=\"edge\">\n",
       "<title>4588416576&#45;&gt;4591313296+</title>\n",
       "<path fill=\"none\" stroke=\"black\" d=\"M549.31,-82.77C558.04,-81.31 566.42,-79.92 574.04,-78.65\"/>\n",
       "<polygon fill=\"black\" stroke=\"black\" points=\"574.54,-82.12 583.83,-77.02 573.39,-75.21 574.54,-82.12\"/>\n",
       "</g>\n",
       "<!-- 4590774864 -->\n",
       "<g id=\"node3\" class=\"node\">\n",
       "<title>4590774864</title>\n",
       "<polygon fill=\"none\" stroke=\"black\" points=\"2.62,-55.5 2.62,-91.5 205.88,-91.5 205.88,-55.5 2.62,-55.5\"/>\n",
       "<text text-anchor=\"middle\" x=\"13.62\" y=\"-68.7\" font-family=\"Times,serif\" font-size=\"14.00\">a</text>\n",
       "<polyline fill=\"none\" stroke=\"black\" points=\"24.62,-56 24.62,-91.5\"/>\n",
       "<text text-anchor=\"middle\" x=\"64.5\" y=\"-68.7\" font-family=\"Times,serif\" font-size=\"14.00\">data 2.0000</text>\n",
       "<polyline fill=\"none\" stroke=\"black\" points=\"104.38,-56 104.38,-91.5\"/>\n",
       "<text text-anchor=\"middle\" x=\"155.12\" y=\"-68.7\" font-family=\"Times,serif\" font-size=\"14.00\">gradient 0.0000</text>\n",
       "</g>\n",
       "<!-- 4588416816* -->\n",
       "<g id=\"node5\" class=\"node\">\n",
       "<title>4588416816*</title>\n",
       "<ellipse fill=\"none\" stroke=\"black\" cx=\"271.5\" cy=\"-45.5\" rx=\"27\" ry=\"18\"/>\n",
       "<text text-anchor=\"middle\" x=\"271.5\" y=\"-40.45\" font-family=\"Times,serif\" font-size=\"14.00\">*</text>\n",
       "</g>\n",
       "<!-- 4590774864&#45;&gt;4588416816* -->\n",
       "<g id=\"edge6\" class=\"edge\">\n",
       "<title>4590774864&#45;&gt;4588416816*</title>\n",
       "<path fill=\"none\" stroke=\"black\" d=\"M206.14,-56.41C215.82,-54.77 225.15,-53.18 233.56,-51.76\"/>\n",
       "<polygon fill=\"black\" stroke=\"black\" points=\"234.01,-55.23 243.28,-50.11 232.84,-48.33 234.01,-55.23\"/>\n",
       "</g>\n",
       "<!-- 4588416816 -->\n",
       "<g id=\"node4\" class=\"node\">\n",
       "<title>4588416816</title>\n",
       "<polygon fill=\"none\" stroke=\"black\" points=\"335.62,-27.5 335.62,-63.5 547.88,-63.5 547.88,-27.5 335.62,-27.5\"/>\n",
       "<text text-anchor=\"middle\" x=\"346.62\" y=\"-40.7\" font-family=\"Times,serif\" font-size=\"14.00\">e</text>\n",
       "<polyline fill=\"none\" stroke=\"black\" points=\"357.62,-28 357.62,-63.5\"/>\n",
       "<text text-anchor=\"middle\" x=\"399.75\" y=\"-40.7\" font-family=\"Times,serif\" font-size=\"14.00\">data &#45;6.0000</text>\n",
       "<polyline fill=\"none\" stroke=\"black\" points=\"441.88,-28 441.88,-63.5\"/>\n",
       "<text text-anchor=\"middle\" x=\"494.88\" y=\"-40.7\" font-family=\"Times,serif\" font-size=\"14.00\">gradient &#45;2.0000</text>\n",
       "</g>\n",
       "<!-- 4588416816&#45;&gt;4591313296+ -->\n",
       "<g id=\"edge9\" class=\"edge\">\n",
       "<title>4588416816&#45;&gt;4591313296+</title>\n",
       "<path fill=\"none\" stroke=\"black\" d=\"M548.35,-62.45C557.47,-63.91 566.23,-65.32 574.16,-66.59\"/>\n",
       "<polygon fill=\"black\" stroke=\"black\" points=\"573.57,-70.04 584,-68.17 574.68,-63.13 573.57,-70.04\"/>\n",
       "</g>\n",
       "<!-- 4588416816*&#45;&gt;4588416816 -->\n",
       "<g id=\"edge1\" class=\"edge\">\n",
       "<title>4588416816*&#45;&gt;4588416816</title>\n",
       "<path fill=\"none\" stroke=\"black\" d=\"M298.79,-45.5C306.15,-45.5 314.65,-45.5 323.77,-45.5\"/>\n",
       "<polygon fill=\"black\" stroke=\"black\" points=\"323.64,-49 333.64,-45.5 323.64,-42 323.64,-49\"/>\n",
       "</g>\n",
       "<!-- 4590775120 -->\n",
       "<g id=\"node6\" class=\"node\">\n",
       "<title>4590775120</title>\n",
       "<polygon fill=\"none\" stroke=\"black\" points=\"0,-0.5 0,-36.5 208.5,-36.5 208.5,-0.5 0,-0.5\"/>\n",
       "<text text-anchor=\"middle\" x=\"11.38\" y=\"-13.7\" font-family=\"Times,serif\" font-size=\"14.00\">b</text>\n",
       "<polyline fill=\"none\" stroke=\"black\" points=\"22.75,-1 22.75,-36.5\"/>\n",
       "<text text-anchor=\"middle\" x=\"64.88\" y=\"-13.7\" font-family=\"Times,serif\" font-size=\"14.00\">data &#45;3.0000</text>\n",
       "<polyline fill=\"none\" stroke=\"black\" points=\"107,-1 107,-36.5\"/>\n",
       "<text text-anchor=\"middle\" x=\"157.75\" y=\"-13.7\" font-family=\"Times,serif\" font-size=\"14.00\">gradient 0.0000</text>\n",
       "</g>\n",
       "<!-- 4590775120&#45;&gt;4588416816* -->\n",
       "<g id=\"edge8\" class=\"edge\">\n",
       "<title>4590775120&#45;&gt;4588416816*</title>\n",
       "<path fill=\"none\" stroke=\"black\" d=\"M208.97,-35.45C217.65,-36.86 226,-38.23 233.59,-39.47\"/>\n",
       "<polygon fill=\"black\" stroke=\"black\" points=\"232.92,-42.91 243.36,-41.06 234.05,-36 232.92,-42.91\"/>\n",
       "</g>\n",
       "<!-- 4591313296 -->\n",
       "<g id=\"node7\" class=\"node\">\n",
       "<title>4591313296</title>\n",
       "<polygon fill=\"none\" stroke=\"black\" points=\"675,-54.5 675,-90.5 883.5,-90.5 883.5,-54.5 675,-54.5\"/>\n",
       "<text text-anchor=\"middle\" x=\"686.38\" y=\"-67.7\" font-family=\"Times,serif\" font-size=\"14.00\">d</text>\n",
       "<polyline fill=\"none\" stroke=\"black\" points=\"697.75,-55 697.75,-90.5\"/>\n",
       "<text text-anchor=\"middle\" x=\"737.62\" y=\"-67.7\" font-family=\"Times,serif\" font-size=\"14.00\">data 4.0000</text>\n",
       "<polyline fill=\"none\" stroke=\"black\" points=\"777.5,-55 777.5,-90.5\"/>\n",
       "<text text-anchor=\"middle\" x=\"830.5\" y=\"-67.7\" font-family=\"Times,serif\" font-size=\"14.00\">gradient &#45;2.0000</text>\n",
       "</g>\n",
       "<!-- 4591313296&#45;&gt;4591329696* -->\n",
       "<g id=\"edge4\" class=\"edge\">\n",
       "<title>4591313296&#45;&gt;4591329696*</title>\n",
       "<path fill=\"none\" stroke=\"black\" d=\"M883.97,-89.45C892.65,-90.86 901,-92.23 908.59,-93.47\"/>\n",
       "<polygon fill=\"black\" stroke=\"black\" points=\"907.92,-96.91 918.36,-95.06 909.05,-90 907.92,-96.91\"/>\n",
       "</g>\n",
       "<!-- 4591313296+&#45;&gt;4591313296 -->\n",
       "<g id=\"edge2\" class=\"edge\">\n",
       "<title>4591313296+&#45;&gt;4591313296</title>\n",
       "<path fill=\"none\" stroke=\"black\" d=\"M639.18,-72.5C646.29,-72.5 654.46,-72.5 663.2,-72.5\"/>\n",
       "<polygon fill=\"black\" stroke=\"black\" points=\"663.04,-76 673.04,-72.5 663.04,-69 663.04,-76\"/>\n",
       "</g>\n",
       "<!-- 4591329696 -->\n",
       "<g id=\"node9\" class=\"node\">\n",
       "<title>4591329696</title>\n",
       "<polygon fill=\"none\" stroke=\"black\" points=\"1009.5,-81.5 1009.5,-117.5 1219.5,-117.5 1219.5,-81.5 1009.5,-81.5\"/>\n",
       "<text text-anchor=\"middle\" x=\"1021.62\" y=\"-94.7\" font-family=\"Times,serif\" font-size=\"14.00\">L</text>\n",
       "<polyline fill=\"none\" stroke=\"black\" points=\"1033.75,-82 1033.75,-117.5\"/>\n",
       "<text text-anchor=\"middle\" x=\"1075.88\" y=\"-94.7\" font-family=\"Times,serif\" font-size=\"14.00\">data &#45;8.0000</text>\n",
       "<polyline fill=\"none\" stroke=\"black\" points=\"1118,-82 1118,-117.5\"/>\n",
       "<text text-anchor=\"middle\" x=\"1168.75\" y=\"-94.7\" font-family=\"Times,serif\" font-size=\"14.00\">gradient 1.0000</text>\n",
       "</g>\n",
       "<!-- 4591329696*&#45;&gt;4591329696 -->\n",
       "<g id=\"edge3\" class=\"edge\">\n",
       "<title>4591329696*&#45;&gt;4591329696</title>\n",
       "<path fill=\"none\" stroke=\"black\" d=\"M973.8,-99.5C980.94,-99.5 989.14,-99.5 997.93,-99.5\"/>\n",
       "<polygon fill=\"black\" stroke=\"black\" points=\"997.81,-103 1007.81,-99.5 997.81,-96 997.81,-103\"/>\n",
       "</g>\n",
       "</g>\n",
       "</svg>\n"
      ],
      "text/plain": [
       "<graphviz.graphs.Digraph at 0x111aec510>"
      ]
     },
     "execution_count": 24,
     "metadata": {},
     "output_type": "execute_result"
    }
   ],
   "source": [
    "draw_network(L)"
   ]
  },
  {
   "cell_type": "markdown",
   "metadata": {},
   "source": [
    "### How Do 'a' & 'b' Affect 'L'\n",
    "\n",
    "Similarly, to find how a change in 'a' affects 'L':\n",
    "```math\n",
    "\\frac{dL}{da} = \\frac{dL}{de} \\times \\frac{de}{da}\n",
    "```\n",
    "```math\n",
    "\\because  \\frac{de}{da} = b = -3\n",
    "```\n",
    "```math\n",
    "\\frac{dL}{da} = -2 \\times -3 = 6\n",
    "```\n",
    "\n",
    "To find out how a change in 'b' affects 'L':\n",
    "```math\n",
    "\\frac{dL}{db} = \\frac{dL}{de} \\times \\frac{de}{db} = -2 \\times 2 = -4\n",
    "```"
   ]
  },
  {
   "cell_type": "code",
   "execution_count": 25,
   "metadata": {},
   "outputs": [],
   "source": [
    "a.gradient = e.gradient * b.data\n",
    "b.gradient = e.gradient * a.data"
   ]
  },
  {
   "cell_type": "markdown",
   "metadata": {},
   "source": [
    "## Final Graph After 1 Round of Back Propagation"
   ]
  },
  {
   "cell_type": "code",
   "execution_count": 26,
   "metadata": {},
   "outputs": [
    {
     "data": {
      "image/svg+xml": [
       "<?xml version=\"1.0\" encoding=\"UTF-8\" standalone=\"no\"?>\n",
       "<!DOCTYPE svg PUBLIC \"-//W3C//DTD SVG 1.1//EN\"\n",
       " \"http://www.w3.org/Graphics/SVG/1.1/DTD/svg11.dtd\">\n",
       "<!-- Generated by graphviz version 12.1.2 (20240928.0832)\n",
       " -->\n",
       "<!-- Pages: 1 -->\n",
       "<svg width=\"1232pt\" height=\"154pt\"\n",
       " viewBox=\"0.00 0.00 1232.00 154.00\" xmlns=\"http://www.w3.org/2000/svg\" xmlns:xlink=\"http://www.w3.org/1999/xlink\">\n",
       "<g id=\"graph0\" class=\"graph\" transform=\"scale(1 1) rotate(0) translate(4 150)\">\n",
       "<polygon fill=\"white\" stroke=\"none\" points=\"-4,4 -4,-150 1228,-150 1228,4 -4,4\"/>\n",
       "<!-- 4591310384 -->\n",
       "<g id=\"node1\" class=\"node\">\n",
       "<title>4591310384</title>\n",
       "<polygon fill=\"none\" stroke=\"black\" points=\"680.62,-109.5 680.62,-145.5 886.88,-145.5 886.88,-109.5 680.62,-109.5\"/>\n",
       "<text text-anchor=\"middle\" x=\"690.88\" y=\"-122.7\" font-family=\"Times,serif\" font-size=\"14.00\">f</text>\n",
       "<polyline fill=\"none\" stroke=\"black\" points=\"701.12,-110 701.12,-145.5\"/>\n",
       "<text text-anchor=\"middle\" x=\"743.25\" y=\"-122.7\" font-family=\"Times,serif\" font-size=\"14.00\">data &#45;2.0000</text>\n",
       "<polyline fill=\"none\" stroke=\"black\" points=\"785.38,-110 785.38,-145.5\"/>\n",
       "<text text-anchor=\"middle\" x=\"836.12\" y=\"-122.7\" font-family=\"Times,serif\" font-size=\"14.00\">gradient 4.0000</text>\n",
       "</g>\n",
       "<!-- 4591329696* -->\n",
       "<g id=\"node10\" class=\"node\">\n",
       "<title>4591329696*</title>\n",
       "<ellipse fill=\"none\" stroke=\"black\" cx=\"951\" cy=\"-99.5\" rx=\"27\" ry=\"18\"/>\n",
       "<text text-anchor=\"middle\" x=\"951\" y=\"-94.45\" font-family=\"Times,serif\" font-size=\"14.00\">*</text>\n",
       "</g>\n",
       "<!-- 4591310384&#45;&gt;4591329696* -->\n",
       "<g id=\"edge7\" class=\"edge\">\n",
       "<title>4591310384&#45;&gt;4591329696*</title>\n",
       "<path fill=\"none\" stroke=\"black\" d=\"M887.05,-110.17C896.28,-108.6 905.16,-107.1 913.2,-105.74\"/>\n",
       "<polygon fill=\"black\" stroke=\"black\" points=\"913.54,-109.23 922.81,-104.11 912.37,-102.33 913.54,-109.23\"/>\n",
       "</g>\n",
       "<!-- 4588416576 -->\n",
       "<g id=\"node2\" class=\"node\">\n",
       "<title>4588416576</title>\n",
       "<polygon fill=\"none\" stroke=\"black\" points=\"339,-82.5 339,-118.5 553.5,-118.5 553.5,-82.5 339,-82.5\"/>\n",
       "<text text-anchor=\"middle\" x=\"350\" y=\"-95.7\" font-family=\"Times,serif\" font-size=\"14.00\">c</text>\n",
       "<polyline fill=\"none\" stroke=\"black\" points=\"361,-83 361,-118.5\"/>\n",
       "<text text-anchor=\"middle\" x=\"404.25\" y=\"-95.7\" font-family=\"Times,serif\" font-size=\"14.00\">data 10.0000</text>\n",
       "<polyline fill=\"none\" stroke=\"black\" points=\"447.5,-83 447.5,-118.5\"/>\n",
       "<text text-anchor=\"middle\" x=\"500.5\" y=\"-95.7\" font-family=\"Times,serif\" font-size=\"14.00\">gradient &#45;2.0000</text>\n",
       "</g>\n",
       "<!-- 4591313296+ -->\n",
       "<g id=\"node8\" class=\"node\">\n",
       "<title>4591313296+</title>\n",
       "<ellipse fill=\"none\" stroke=\"black\" cx=\"616.5\" cy=\"-72.5\" rx=\"27\" ry=\"18\"/>\n",
       "<text text-anchor=\"middle\" x=\"616.5\" y=\"-67.45\" font-family=\"Times,serif\" font-size=\"14.00\">+</text>\n",
       "</g>\n",
       "<!-- 4588416576&#45;&gt;4591313296+ -->\n",
       "<g id=\"edge5\" class=\"edge\">\n",
       "<title>4588416576&#45;&gt;4591313296+</title>\n",
       "<path fill=\"none\" stroke=\"black\" d=\"M553.81,-82.77C562.54,-81.31 570.92,-79.92 578.54,-78.65\"/>\n",
       "<polygon fill=\"black\" stroke=\"black\" points=\"579.04,-82.12 588.33,-77.02 577.89,-75.21 579.04,-82.12\"/>\n",
       "</g>\n",
       "<!-- 4590774864 -->\n",
       "<g id=\"node3\" class=\"node\">\n",
       "<title>4590774864</title>\n",
       "<polygon fill=\"none\" stroke=\"black\" points=\"4.88,-55.5 4.88,-91.5 208.12,-91.5 208.12,-55.5 4.88,-55.5\"/>\n",
       "<text text-anchor=\"middle\" x=\"15.88\" y=\"-68.7\" font-family=\"Times,serif\" font-size=\"14.00\">a</text>\n",
       "<polyline fill=\"none\" stroke=\"black\" points=\"26.88,-56 26.88,-91.5\"/>\n",
       "<text text-anchor=\"middle\" x=\"66.75\" y=\"-68.7\" font-family=\"Times,serif\" font-size=\"14.00\">data 2.0000</text>\n",
       "<polyline fill=\"none\" stroke=\"black\" points=\"106.62,-56 106.62,-91.5\"/>\n",
       "<text text-anchor=\"middle\" x=\"157.38\" y=\"-68.7\" font-family=\"Times,serif\" font-size=\"14.00\">gradient 6.0000</text>\n",
       "</g>\n",
       "<!-- 4588416816* -->\n",
       "<g id=\"node5\" class=\"node\">\n",
       "<title>4588416816*</title>\n",
       "<ellipse fill=\"none\" stroke=\"black\" cx=\"276\" cy=\"-45.5\" rx=\"27\" ry=\"18\"/>\n",
       "<text text-anchor=\"middle\" x=\"276\" y=\"-40.45\" font-family=\"Times,serif\" font-size=\"14.00\">*</text>\n",
       "</g>\n",
       "<!-- 4590774864&#45;&gt;4588416816* -->\n",
       "<g id=\"edge6\" class=\"edge\">\n",
       "<title>4590774864&#45;&gt;4588416816*</title>\n",
       "<path fill=\"none\" stroke=\"black\" d=\"M208.32,-56.65C218.92,-54.88 229.13,-53.17 238.25,-51.64\"/>\n",
       "<polygon fill=\"black\" stroke=\"black\" points=\"238.77,-55.11 248.05,-50 237.61,-48.2 238.77,-55.11\"/>\n",
       "</g>\n",
       "<!-- 4588416816 -->\n",
       "<g id=\"node4\" class=\"node\">\n",
       "<title>4588416816</title>\n",
       "<polygon fill=\"none\" stroke=\"black\" points=\"340.12,-27.5 340.12,-63.5 552.38,-63.5 552.38,-27.5 340.12,-27.5\"/>\n",
       "<text text-anchor=\"middle\" x=\"351.12\" y=\"-40.7\" font-family=\"Times,serif\" font-size=\"14.00\">e</text>\n",
       "<polyline fill=\"none\" stroke=\"black\" points=\"362.12,-28 362.12,-63.5\"/>\n",
       "<text text-anchor=\"middle\" x=\"404.25\" y=\"-40.7\" font-family=\"Times,serif\" font-size=\"14.00\">data &#45;6.0000</text>\n",
       "<polyline fill=\"none\" stroke=\"black\" points=\"446.38,-28 446.38,-63.5\"/>\n",
       "<text text-anchor=\"middle\" x=\"499.38\" y=\"-40.7\" font-family=\"Times,serif\" font-size=\"14.00\">gradient &#45;2.0000</text>\n",
       "</g>\n",
       "<!-- 4588416816&#45;&gt;4591313296+ -->\n",
       "<g id=\"edge9\" class=\"edge\">\n",
       "<title>4588416816&#45;&gt;4591313296+</title>\n",
       "<path fill=\"none\" stroke=\"black\" d=\"M552.85,-62.45C561.97,-63.91 570.73,-65.32 578.66,-66.59\"/>\n",
       "<polygon fill=\"black\" stroke=\"black\" points=\"578.07,-70.04 588.5,-68.17 579.18,-63.13 578.07,-70.04\"/>\n",
       "</g>\n",
       "<!-- 4588416816*&#45;&gt;4588416816 -->\n",
       "<g id=\"edge1\" class=\"edge\">\n",
       "<title>4588416816*&#45;&gt;4588416816</title>\n",
       "<path fill=\"none\" stroke=\"black\" d=\"M303.29,-45.5C310.65,-45.5 319.15,-45.5 328.27,-45.5\"/>\n",
       "<polygon fill=\"black\" stroke=\"black\" points=\"328.14,-49 338.14,-45.5 328.14,-42 328.14,-49\"/>\n",
       "</g>\n",
       "<!-- 4590775120 -->\n",
       "<g id=\"node6\" class=\"node\">\n",
       "<title>4590775120</title>\n",
       "<polygon fill=\"none\" stroke=\"black\" points=\"0,-0.5 0,-36.5 213,-36.5 213,-0.5 0,-0.5\"/>\n",
       "<text text-anchor=\"middle\" x=\"11.38\" y=\"-13.7\" font-family=\"Times,serif\" font-size=\"14.00\">b</text>\n",
       "<polyline fill=\"none\" stroke=\"black\" points=\"22.75,-1 22.75,-36.5\"/>\n",
       "<text text-anchor=\"middle\" x=\"64.88\" y=\"-13.7\" font-family=\"Times,serif\" font-size=\"14.00\">data &#45;3.0000</text>\n",
       "<polyline fill=\"none\" stroke=\"black\" points=\"107,-1 107,-36.5\"/>\n",
       "<text text-anchor=\"middle\" x=\"160\" y=\"-13.7\" font-family=\"Times,serif\" font-size=\"14.00\">gradient &#45;4.0000</text>\n",
       "</g>\n",
       "<!-- 4590775120&#45;&gt;4588416816* -->\n",
       "<g id=\"edge8\" class=\"edge\">\n",
       "<title>4590775120&#45;&gt;4588416816*</title>\n",
       "<path fill=\"none\" stroke=\"black\" d=\"M213.11,-35.52C221.85,-36.93 230.25,-38.29 237.9,-39.52\"/>\n",
       "<polygon fill=\"black\" stroke=\"black\" points=\"237.3,-42.97 247.73,-41.1 238.41,-36.06 237.3,-42.97\"/>\n",
       "</g>\n",
       "<!-- 4591313296 -->\n",
       "<g id=\"node7\" class=\"node\">\n",
       "<title>4591313296</title>\n",
       "<polygon fill=\"none\" stroke=\"black\" points=\"679.5,-54.5 679.5,-90.5 888,-90.5 888,-54.5 679.5,-54.5\"/>\n",
       "<text text-anchor=\"middle\" x=\"690.88\" y=\"-67.7\" font-family=\"Times,serif\" font-size=\"14.00\">d</text>\n",
       "<polyline fill=\"none\" stroke=\"black\" points=\"702.25,-55 702.25,-90.5\"/>\n",
       "<text text-anchor=\"middle\" x=\"742.12\" y=\"-67.7\" font-family=\"Times,serif\" font-size=\"14.00\">data 4.0000</text>\n",
       "<polyline fill=\"none\" stroke=\"black\" points=\"782,-55 782,-90.5\"/>\n",
       "<text text-anchor=\"middle\" x=\"835\" y=\"-67.7\" font-family=\"Times,serif\" font-size=\"14.00\">gradient &#45;2.0000</text>\n",
       "</g>\n",
       "<!-- 4591313296&#45;&gt;4591329696* -->\n",
       "<g id=\"edge4\" class=\"edge\">\n",
       "<title>4591313296&#45;&gt;4591329696*</title>\n",
       "<path fill=\"none\" stroke=\"black\" d=\"M888.47,-89.45C897.15,-90.86 905.5,-92.23 913.09,-93.47\"/>\n",
       "<polygon fill=\"black\" stroke=\"black\" points=\"912.42,-96.91 922.86,-95.06 913.55,-90 912.42,-96.91\"/>\n",
       "</g>\n",
       "<!-- 4591313296+&#45;&gt;4591313296 -->\n",
       "<g id=\"edge2\" class=\"edge\">\n",
       "<title>4591313296+&#45;&gt;4591313296</title>\n",
       "<path fill=\"none\" stroke=\"black\" d=\"M643.68,-72.5C650.79,-72.5 658.96,-72.5 667.7,-72.5\"/>\n",
       "<polygon fill=\"black\" stroke=\"black\" points=\"667.54,-76 677.54,-72.5 667.54,-69 667.54,-76\"/>\n",
       "</g>\n",
       "<!-- 4591329696 -->\n",
       "<g id=\"node9\" class=\"node\">\n",
       "<title>4591329696</title>\n",
       "<polygon fill=\"none\" stroke=\"black\" points=\"1014,-81.5 1014,-117.5 1224,-117.5 1224,-81.5 1014,-81.5\"/>\n",
       "<text text-anchor=\"middle\" x=\"1026.12\" y=\"-94.7\" font-family=\"Times,serif\" font-size=\"14.00\">L</text>\n",
       "<polyline fill=\"none\" stroke=\"black\" points=\"1038.25,-82 1038.25,-117.5\"/>\n",
       "<text text-anchor=\"middle\" x=\"1080.38\" y=\"-94.7\" font-family=\"Times,serif\" font-size=\"14.00\">data &#45;8.0000</text>\n",
       "<polyline fill=\"none\" stroke=\"black\" points=\"1122.5,-82 1122.5,-117.5\"/>\n",
       "<text text-anchor=\"middle\" x=\"1173.25\" y=\"-94.7\" font-family=\"Times,serif\" font-size=\"14.00\">gradient 1.0000</text>\n",
       "</g>\n",
       "<!-- 4591329696*&#45;&gt;4591329696 -->\n",
       "<g id=\"edge3\" class=\"edge\">\n",
       "<title>4591329696*&#45;&gt;4591329696</title>\n",
       "<path fill=\"none\" stroke=\"black\" d=\"M978.3,-99.5C985.44,-99.5 993.64,-99.5 1002.43,-99.5\"/>\n",
       "<polygon fill=\"black\" stroke=\"black\" points=\"1002.31,-103 1012.31,-99.5 1002.31,-96 1002.31,-103\"/>\n",
       "</g>\n",
       "</g>\n",
       "</svg>\n"
      ],
      "text/plain": [
       "<graphviz.graphs.Digraph at 0x111aad130>"
      ]
     },
     "execution_count": 26,
     "metadata": {},
     "output_type": "execute_result"
    }
   ],
   "source": [
    "draw_network(L)"
   ]
  },
  {
   "cell_type": "markdown",
   "metadata": {},
   "source": [
    "## How To Increase The Value of Output: 'L'\n",
    "\n",
    "If we want 'L' to increase, we need to go in the direction of the gradient in all the leaf nodes  (that we usually have control over)."
   ]
  },
  {
   "cell_type": "code",
   "execution_count": 27,
   "metadata": {},
   "outputs": [
    {
     "name": "stdout",
     "output_type": "stream",
     "text": [
      "-7.286496\n"
     ]
    }
   ],
   "source": [
    "# taking a small step size in the direction of the gradient of the leaf nodes:\n",
    "\n",
    "a.data += 0.01 * a.gradient\n",
    "b.data += 0.01 * b.gradient\n",
    "c.data += 0.01 * c.gradient\n",
    "f.data += 0.01 * f.gradient\n",
    "\n",
    "# now that we have updated the data, rewriting the forward pass\n",
    "e = a * b; e.label = 'e'\n",
    "d = e + c; d.label = 'd'\n",
    "L = d * f; L.label = 'L'\n",
    "\n",
    "print(L.data)"
   ]
  },
  {
   "cell_type": "code",
   "execution_count": 28,
   "metadata": {},
   "outputs": [
    {
     "data": {
      "image/svg+xml": [
       "<?xml version=\"1.0\" encoding=\"UTF-8\" standalone=\"no\"?>\n",
       "<!DOCTYPE svg PUBLIC \"-//W3C//DTD SVG 1.1//EN\"\n",
       " \"http://www.w3.org/Graphics/SVG/1.1/DTD/svg11.dtd\">\n",
       "<!-- Generated by graphviz version 12.1.2 (20240928.0832)\n",
       " -->\n",
       "<!-- Pages: 1 -->\n",
       "<svg width=\"1223pt\" height=\"154pt\"\n",
       " viewBox=\"0.00 0.00 1223.00 154.00\" xmlns=\"http://www.w3.org/2000/svg\" xmlns:xlink=\"http://www.w3.org/1999/xlink\">\n",
       "<g id=\"graph0\" class=\"graph\" transform=\"scale(1 1) rotate(0) translate(4 150)\">\n",
       "<polygon fill=\"white\" stroke=\"none\" points=\"-4,4 -4,-150 1219,-150 1219,4 -4,4\"/>\n",
       "<!-- 4591310384 -->\n",
       "<g id=\"node1\" class=\"node\">\n",
       "<title>4591310384</title>\n",
       "<polygon fill=\"none\" stroke=\"black\" points=\"672.75,-109.5 672.75,-145.5 879,-145.5 879,-109.5 672.75,-109.5\"/>\n",
       "<text text-anchor=\"middle\" x=\"683\" y=\"-122.7\" font-family=\"Times,serif\" font-size=\"14.00\">f</text>\n",
       "<polyline fill=\"none\" stroke=\"black\" points=\"693.25,-110 693.25,-145.5\"/>\n",
       "<text text-anchor=\"middle\" x=\"735.38\" y=\"-122.7\" font-family=\"Times,serif\" font-size=\"14.00\">data &#45;1.9600</text>\n",
       "<polyline fill=\"none\" stroke=\"black\" points=\"777.5,-110 777.5,-145.5\"/>\n",
       "<text text-anchor=\"middle\" x=\"828.25\" y=\"-122.7\" font-family=\"Times,serif\" font-size=\"14.00\">gradient 4.0000</text>\n",
       "</g>\n",
       "<!-- 4591602944* -->\n",
       "<g id=\"node5\" class=\"node\">\n",
       "<title>4591602944*</title>\n",
       "<ellipse fill=\"none\" stroke=\"black\" cx=\"942\" cy=\"-99.5\" rx=\"27\" ry=\"18\"/>\n",
       "<text text-anchor=\"middle\" x=\"942\" y=\"-94.45\" font-family=\"Times,serif\" font-size=\"14.00\">*</text>\n",
       "</g>\n",
       "<!-- 4591310384&#45;&gt;4591602944* -->\n",
       "<g id=\"edge8\" class=\"edge\">\n",
       "<title>4591310384&#45;&gt;4591602944*</title>\n",
       "<path fill=\"none\" stroke=\"black\" d=\"M879.42,-110.01C888.09,-108.53 896.44,-107.1 904.04,-105.81\"/>\n",
       "<polygon fill=\"black\" stroke=\"black\" points=\"904.55,-109.27 913.82,-104.14 903.37,-102.37 904.55,-109.27\"/>\n",
       "</g>\n",
       "<!-- 4588416576 -->\n",
       "<g id=\"node2\" class=\"node\">\n",
       "<title>4588416576</title>\n",
       "<polygon fill=\"none\" stroke=\"black\" points=\"339,-82.5 339,-118.5 546.75,-118.5 546.75,-82.5 339,-82.5\"/>\n",
       "<text text-anchor=\"middle\" x=\"350\" y=\"-95.7\" font-family=\"Times,serif\" font-size=\"14.00\">c</text>\n",
       "<polyline fill=\"none\" stroke=\"black\" points=\"361,-83 361,-118.5\"/>\n",
       "<text text-anchor=\"middle\" x=\"400.88\" y=\"-95.7\" font-family=\"Times,serif\" font-size=\"14.00\">data 9.9800</text>\n",
       "<polyline fill=\"none\" stroke=\"black\" points=\"440.75,-83 440.75,-118.5\"/>\n",
       "<text text-anchor=\"middle\" x=\"493.75\" y=\"-95.7\" font-family=\"Times,serif\" font-size=\"14.00\">gradient &#45;2.0000</text>\n",
       "</g>\n",
       "<!-- 4591602496+ -->\n",
       "<g id=\"node7\" class=\"node\">\n",
       "<title>4591602496+</title>\n",
       "<ellipse fill=\"none\" stroke=\"black\" cx=\"609.75\" cy=\"-72.5\" rx=\"27\" ry=\"18\"/>\n",
       "<text text-anchor=\"middle\" x=\"609.75\" y=\"-67.45\" font-family=\"Times,serif\" font-size=\"14.00\">+</text>\n",
       "</g>\n",
       "<!-- 4588416576&#45;&gt;4591602496+ -->\n",
       "<g id=\"edge4\" class=\"edge\">\n",
       "<title>4588416576&#45;&gt;4591602496+</title>\n",
       "<path fill=\"none\" stroke=\"black\" d=\"M546.89,-83.01C555.79,-81.49 564.35,-80.04 572.12,-78.72\"/>\n",
       "<polygon fill=\"black\" stroke=\"black\" points=\"572.48,-82.21 581.75,-77.09 571.3,-75.31 572.48,-82.21\"/>\n",
       "</g>\n",
       "<!-- 4590774864 -->\n",
       "<g id=\"node3\" class=\"node\">\n",
       "<title>4590774864</title>\n",
       "<polygon fill=\"none\" stroke=\"black\" points=\"4.88,-55.5 4.88,-91.5 208.12,-91.5 208.12,-55.5 4.88,-55.5\"/>\n",
       "<text text-anchor=\"middle\" x=\"15.88\" y=\"-68.7\" font-family=\"Times,serif\" font-size=\"14.00\">a</text>\n",
       "<polyline fill=\"none\" stroke=\"black\" points=\"26.88,-56 26.88,-91.5\"/>\n",
       "<text text-anchor=\"middle\" x=\"66.75\" y=\"-68.7\" font-family=\"Times,serif\" font-size=\"14.00\">data 2.0600</text>\n",
       "<polyline fill=\"none\" stroke=\"black\" points=\"106.62,-56 106.62,-91.5\"/>\n",
       "<text text-anchor=\"middle\" x=\"157.38\" y=\"-68.7\" font-family=\"Times,serif\" font-size=\"14.00\">gradient 6.0000</text>\n",
       "</g>\n",
       "<!-- 4591602160* -->\n",
       "<g id=\"node10\" class=\"node\">\n",
       "<title>4591602160*</title>\n",
       "<ellipse fill=\"none\" stroke=\"black\" cx=\"276\" cy=\"-45.5\" rx=\"27\" ry=\"18\"/>\n",
       "<text text-anchor=\"middle\" x=\"276\" y=\"-40.45\" font-family=\"Times,serif\" font-size=\"14.00\">*</text>\n",
       "</g>\n",
       "<!-- 4590774864&#45;&gt;4591602160* -->\n",
       "<g id=\"edge5\" class=\"edge\">\n",
       "<title>4590774864&#45;&gt;4591602160*</title>\n",
       "<path fill=\"none\" stroke=\"black\" d=\"M208.32,-56.65C218.92,-54.88 229.13,-53.17 238.25,-51.64\"/>\n",
       "<polygon fill=\"black\" stroke=\"black\" points=\"238.77,-55.11 248.05,-50 237.61,-48.2 238.77,-55.11\"/>\n",
       "</g>\n",
       "<!-- 4591602944 -->\n",
       "<g id=\"node4\" class=\"node\">\n",
       "<title>4591602944</title>\n",
       "<polygon fill=\"none\" stroke=\"black\" points=\"1005,-81.5 1005,-117.5 1215,-117.5 1215,-81.5 1005,-81.5\"/>\n",
       "<text text-anchor=\"middle\" x=\"1017.12\" y=\"-94.7\" font-family=\"Times,serif\" font-size=\"14.00\">L</text>\n",
       "<polyline fill=\"none\" stroke=\"black\" points=\"1029.25,-82 1029.25,-117.5\"/>\n",
       "<text text-anchor=\"middle\" x=\"1071.38\" y=\"-94.7\" font-family=\"Times,serif\" font-size=\"14.00\">data &#45;7.2865</text>\n",
       "<polyline fill=\"none\" stroke=\"black\" points=\"1113.5,-82 1113.5,-117.5\"/>\n",
       "<text text-anchor=\"middle\" x=\"1164.25\" y=\"-94.7\" font-family=\"Times,serif\" font-size=\"14.00\">gradient 0.0000</text>\n",
       "</g>\n",
       "<!-- 4591602944*&#45;&gt;4591602944 -->\n",
       "<g id=\"edge1\" class=\"edge\">\n",
       "<title>4591602944*&#45;&gt;4591602944</title>\n",
       "<path fill=\"none\" stroke=\"black\" d=\"M969.3,-99.5C976.44,-99.5 984.64,-99.5 993.43,-99.5\"/>\n",
       "<polygon fill=\"black\" stroke=\"black\" points=\"993.31,-103 1003.31,-99.5 993.31,-96 993.31,-103\"/>\n",
       "</g>\n",
       "<!-- 4591602496 -->\n",
       "<g id=\"node6\" class=\"node\">\n",
       "<title>4591602496</title>\n",
       "<polygon fill=\"none\" stroke=\"black\" points=\"673.88,-54.5 673.88,-90.5 877.88,-90.5 877.88,-54.5 673.88,-54.5\"/>\n",
       "<text text-anchor=\"middle\" x=\"685.25\" y=\"-67.7\" font-family=\"Times,serif\" font-size=\"14.00\">d</text>\n",
       "<polyline fill=\"none\" stroke=\"black\" points=\"696.62,-55 696.62,-90.5\"/>\n",
       "<text text-anchor=\"middle\" x=\"736.5\" y=\"-67.7\" font-family=\"Times,serif\" font-size=\"14.00\">data 3.7176</text>\n",
       "<polyline fill=\"none\" stroke=\"black\" points=\"776.38,-55 776.38,-90.5\"/>\n",
       "<text text-anchor=\"middle\" x=\"827.12\" y=\"-67.7\" font-family=\"Times,serif\" font-size=\"14.00\">gradient 0.0000</text>\n",
       "</g>\n",
       "<!-- 4591602496&#45;&gt;4591602944* -->\n",
       "<g id=\"edge9\" class=\"edge\">\n",
       "<title>4591602496&#45;&gt;4591602944*</title>\n",
       "<path fill=\"none\" stroke=\"black\" d=\"M878.01,-89.14C887.23,-90.65 896.11,-92.12 904.15,-93.44\"/>\n",
       "<polygon fill=\"black\" stroke=\"black\" points=\"903.34,-96.85 913.77,-95.02 904.47,-89.94 903.34,-96.85\"/>\n",
       "</g>\n",
       "<!-- 4591602496+&#45;&gt;4591602496 -->\n",
       "<g id=\"edge2\" class=\"edge\">\n",
       "<title>4591602496+&#45;&gt;4591602496</title>\n",
       "<path fill=\"none\" stroke=\"black\" d=\"M637.12,-72.5C644.53,-72.5 653.08,-72.5 662.23,-72.5\"/>\n",
       "<polygon fill=\"black\" stroke=\"black\" points=\"662.13,-76 672.13,-72.5 662.13,-69 662.13,-76\"/>\n",
       "</g>\n",
       "<!-- 4590775120 -->\n",
       "<g id=\"node8\" class=\"node\">\n",
       "<title>4590775120</title>\n",
       "<polygon fill=\"none\" stroke=\"black\" points=\"0,-0.5 0,-36.5 213,-36.5 213,-0.5 0,-0.5\"/>\n",
       "<text text-anchor=\"middle\" x=\"11.38\" y=\"-13.7\" font-family=\"Times,serif\" font-size=\"14.00\">b</text>\n",
       "<polyline fill=\"none\" stroke=\"black\" points=\"22.75,-1 22.75,-36.5\"/>\n",
       "<text text-anchor=\"middle\" x=\"64.88\" y=\"-13.7\" font-family=\"Times,serif\" font-size=\"14.00\">data &#45;3.0400</text>\n",
       "<polyline fill=\"none\" stroke=\"black\" points=\"107,-1 107,-36.5\"/>\n",
       "<text text-anchor=\"middle\" x=\"160\" y=\"-13.7\" font-family=\"Times,serif\" font-size=\"14.00\">gradient &#45;4.0000</text>\n",
       "</g>\n",
       "<!-- 4590775120&#45;&gt;4591602160* -->\n",
       "<g id=\"edge6\" class=\"edge\">\n",
       "<title>4590775120&#45;&gt;4591602160*</title>\n",
       "<path fill=\"none\" stroke=\"black\" d=\"M213.11,-35.52C221.85,-36.93 230.25,-38.29 237.9,-39.52\"/>\n",
       "<polygon fill=\"black\" stroke=\"black\" points=\"237.3,-42.97 247.73,-41.1 238.41,-36.06 237.3,-42.97\"/>\n",
       "</g>\n",
       "<!-- 4591602160 -->\n",
       "<g id=\"node9\" class=\"node\">\n",
       "<title>4591602160</title>\n",
       "<polygon fill=\"none\" stroke=\"black\" points=\"339,-27.5 339,-63.5 546.75,-63.5 546.75,-27.5 339,-27.5\"/>\n",
       "<text text-anchor=\"middle\" x=\"350\" y=\"-40.7\" font-family=\"Times,serif\" font-size=\"14.00\">e</text>\n",
       "<polyline fill=\"none\" stroke=\"black\" points=\"361,-28 361,-63.5\"/>\n",
       "<text text-anchor=\"middle\" x=\"403.12\" y=\"-40.7\" font-family=\"Times,serif\" font-size=\"14.00\">data &#45;6.2624</text>\n",
       "<polyline fill=\"none\" stroke=\"black\" points=\"445.25,-28 445.25,-63.5\"/>\n",
       "<text text-anchor=\"middle\" x=\"496\" y=\"-40.7\" font-family=\"Times,serif\" font-size=\"14.00\">gradient 0.0000</text>\n",
       "</g>\n",
       "<!-- 4591602160&#45;&gt;4591602496+ -->\n",
       "<g id=\"edge7\" class=\"edge\">\n",
       "<title>4591602160&#45;&gt;4591602496+</title>\n",
       "<path fill=\"none\" stroke=\"black\" d=\"M546.89,-62.37C555.79,-63.83 564.35,-65.23 572.12,-66.5\"/>\n",
       "<polygon fill=\"black\" stroke=\"black\" points=\"571.31,-69.92 581.75,-68.08 572.44,-63.01 571.31,-69.92\"/>\n",
       "</g>\n",
       "<!-- 4591602160*&#45;&gt;4591602160 -->\n",
       "<g id=\"edge3\" class=\"edge\">\n",
       "<title>4591602160*&#45;&gt;4591602160</title>\n",
       "<path fill=\"none\" stroke=\"black\" d=\"M303.49,-45.5C310.59,-45.5 318.75,-45.5 327.47,-45.5\"/>\n",
       "<polygon fill=\"black\" stroke=\"black\" points=\"327.26,-49 337.26,-45.5 327.26,-42 327.26,-49\"/>\n",
       "</g>\n",
       "</g>\n",
       "</svg>\n"
      ],
      "text/plain": [
       "<graphviz.graphs.Digraph at 0x10785bbd0>"
      ]
     },
     "execution_count": 28,
     "metadata": {},
     "output_type": "execute_result"
    }
   ],
   "source": [
    "draw_network(L)"
   ]
  },
  {
   "cell_type": "markdown",
   "metadata": {},
   "source": [
    "Previously the value of 'L' was -8. Now after taking a small step size of 0.01 in the direction of the gradient, we can see that 'L' has become more positive (-7.286)."
   ]
  },
  {
   "cell_type": "markdown",
   "metadata": {},
   "source": [
    "# Basic Neural Network"
   ]
  },
  {
   "cell_type": "code",
   "execution_count": 29,
   "metadata": {},
   "outputs": [],
   "source": [
    "# inputs as x1, x2\n",
    "\n",
    "x1 = Value(2.0, label='x1')\n",
    "x2 = Value(0.0, label='x2')\n",
    "\n",
    "# weights as w1, w2\n",
    "w1 = Value(-3.0, label='w1')\n",
    "w2 = Value(1.0, label='w2')\n",
    "\n",
    "# bias of the neuron as b\n",
    "b = Value(6.8813735870195432, label='b')"
   ]
  },
  {
   "cell_type": "code",
   "execution_count": 30,
   "metadata": {},
   "outputs": [],
   "source": [
    "# computing x1*w1 + x2*w2 + b\n",
    "x1w1 = x1 * w1; x1w1.label = 'x1*w1'\n",
    "x2w2 = x2 * w2; x2w2.label = 'x2*w2'\n",
    "\n",
    "x1wi_x2w2 = x1w1 + x2w2; x1wi_x2w2.label = 'x1w1 + x2w2'\n",
    "\n",
    "n = x1wi_x2w2 + b; n.label = 'n'\n",
    "\n",
    "o = n.tanh(); o.label = 'o'"
   ]
  },
  {
   "cell_type": "code",
   "execution_count": 31,
   "metadata": {},
   "outputs": [
    {
     "data": {
      "image/svg+xml": [
       "<?xml version=\"1.0\" encoding=\"UTF-8\" standalone=\"no\"?>\n",
       "<!DOCTYPE svg PUBLIC \"-//W3C//DTD SVG 1.1//EN\"\n",
       " \"http://www.w3.org/Graphics/SVG/1.1/DTD/svg11.dtd\">\n",
       "<!-- Generated by graphviz version 12.1.2 (20240928.0832)\n",
       " -->\n",
       "<!-- Pages: 1 -->\n",
       "<svg width=\"1654pt\" height=\"210pt\"\n",
       " viewBox=\"0.00 0.00 1654.25 210.00\" xmlns=\"http://www.w3.org/2000/svg\" xmlns:xlink=\"http://www.w3.org/1999/xlink\">\n",
       "<g id=\"graph0\" class=\"graph\" transform=\"scale(1 1) rotate(0) translate(4 206)\">\n",
       "<polygon fill=\"white\" stroke=\"none\" points=\"-4,4 -4,-206 1650.25,-206 1650.25,4 -4,4\"/>\n",
       "<!-- 4591604736 -->\n",
       "<g id=\"node1\" class=\"node\">\n",
       "<title>4591604736</title>\n",
       "<polygon fill=\"none\" stroke=\"black\" points=\"708.75,-82.5 708.75,-118.5 986.25,-118.5 986.25,-82.5 708.75,-82.5\"/>\n",
       "<text text-anchor=\"middle\" x=\"754.62\" y=\"-95.7\" font-family=\"Times,serif\" font-size=\"14.00\">x1w1 + x2w2</text>\n",
       "<polyline fill=\"none\" stroke=\"black\" points=\"800.5,-83 800.5,-118.5\"/>\n",
       "<text text-anchor=\"middle\" x=\"842.62\" y=\"-95.7\" font-family=\"Times,serif\" font-size=\"14.00\">data &#45;6.0000</text>\n",
       "<polyline fill=\"none\" stroke=\"black\" points=\"884.75,-83 884.75,-118.5\"/>\n",
       "<text text-anchor=\"middle\" x=\"935.5\" y=\"-95.7\" font-family=\"Times,serif\" font-size=\"14.00\">gradient 0.0000</text>\n",
       "</g>\n",
       "<!-- 4591604848+ -->\n",
       "<g id=\"node5\" class=\"node\">\n",
       "<title>4591604848+</title>\n",
       "<ellipse fill=\"none\" stroke=\"black\" cx=\"1049.25\" cy=\"-127.5\" rx=\"27\" ry=\"18\"/>\n",
       "<text text-anchor=\"middle\" x=\"1049.25\" y=\"-122.45\" font-family=\"Times,serif\" font-size=\"14.00\">+</text>\n",
       "</g>\n",
       "<!-- 4591604736&#45;&gt;4591604848+ -->\n",
       "<g id=\"edge10\" class=\"edge\">\n",
       "<title>4591604736&#45;&gt;4591604848+</title>\n",
       "<path fill=\"none\" stroke=\"black\" d=\"M985.32,-118.99C994.58,-120.25 1003.34,-121.43 1011.23,-122.5\"/>\n",
       "<polygon fill=\"black\" stroke=\"black\" points=\"1010.59,-125.94 1020.96,-123.81 1011.52,-119 1010.59,-125.94\"/>\n",
       "</g>\n",
       "<!-- 4591604736+ -->\n",
       "<g id=\"node2\" class=\"node\">\n",
       "<title>4591604736+</title>\n",
       "<ellipse fill=\"none\" stroke=\"black\" cx=\"645.75\" cy=\"-100.5\" rx=\"27\" ry=\"18\"/>\n",
       "<text text-anchor=\"middle\" x=\"645.75\" y=\"-95.45\" font-family=\"Times,serif\" font-size=\"14.00\">+</text>\n",
       "</g>\n",
       "<!-- 4591604736+&#45;&gt;4591604736 -->\n",
       "<g id=\"edge1\" class=\"edge\">\n",
       "<title>4591604736+&#45;&gt;4591604736</title>\n",
       "<path fill=\"none\" stroke=\"black\" d=\"M672.86,-100.5C680.01,-100.5 688.29,-100.5 697.28,-100.5\"/>\n",
       "<polygon fill=\"black\" stroke=\"black\" points=\"697.06,-104 707.06,-100.5 697.06,-97 697.06,-104\"/>\n",
       "</g>\n",
       "<!-- 4591603728 -->\n",
       "<g id=\"node3\" class=\"node\">\n",
       "<title>4591603728</title>\n",
       "<polygon fill=\"none\" stroke=\"black\" points=\"0,-55.5 0,-91.5 218.25,-91.5 218.25,-55.5 0,-55.5\"/>\n",
       "<text text-anchor=\"middle\" x=\"16.25\" y=\"-68.7\" font-family=\"Times,serif\" font-size=\"14.00\">w1</text>\n",
       "<polyline fill=\"none\" stroke=\"black\" points=\"32.5,-56 32.5,-91.5\"/>\n",
       "<text text-anchor=\"middle\" x=\"74.62\" y=\"-68.7\" font-family=\"Times,serif\" font-size=\"14.00\">data &#45;3.0000</text>\n",
       "<polyline fill=\"none\" stroke=\"black\" points=\"116.75,-56 116.75,-91.5\"/>\n",
       "<text text-anchor=\"middle\" x=\"167.5\" y=\"-68.7\" font-family=\"Times,serif\" font-size=\"14.00\">gradient 0.0000</text>\n",
       "</g>\n",
       "<!-- 4591602608* -->\n",
       "<g id=\"node14\" class=\"node\">\n",
       "<title>4591602608*</title>\n",
       "<ellipse fill=\"none\" stroke=\"black\" cx=\"281.25\" cy=\"-73.5\" rx=\"27\" ry=\"18\"/>\n",
       "<text text-anchor=\"middle\" x=\"281.25\" y=\"-68.45\" font-family=\"Times,serif\" font-size=\"14.00\">*</text>\n",
       "</g>\n",
       "<!-- 4591603728&#45;&gt;4591602608* -->\n",
       "<g id=\"edge13\" class=\"edge\">\n",
       "<title>4591603728&#45;&gt;4591602608*</title>\n",
       "<path fill=\"none\" stroke=\"black\" d=\"M218.35,-73.5C226.85,-73.5 235.01,-73.5 242.47,-73.5\"/>\n",
       "<polygon fill=\"black\" stroke=\"black\" points=\"242.39,-77 252.39,-73.5 242.39,-70 242.39,-77\"/>\n",
       "</g>\n",
       "<!-- 4591604848 -->\n",
       "<g id=\"node4\" class=\"node\">\n",
       "<title>4591604848</title>\n",
       "<polygon fill=\"none\" stroke=\"black\" points=\"1112.25,-109.5 1112.25,-145.5 1316.25,-145.5 1316.25,-109.5 1112.25,-109.5\"/>\n",
       "<text text-anchor=\"middle\" x=\"1123.62\" y=\"-122.7\" font-family=\"Times,serif\" font-size=\"14.00\">n</text>\n",
       "<polyline fill=\"none\" stroke=\"black\" points=\"1135,-110 1135,-145.5\"/>\n",
       "<text text-anchor=\"middle\" x=\"1174.88\" y=\"-122.7\" font-family=\"Times,serif\" font-size=\"14.00\">data 0.8814</text>\n",
       "<polyline fill=\"none\" stroke=\"black\" points=\"1214.75,-110 1214.75,-145.5\"/>\n",
       "<text text-anchor=\"middle\" x=\"1265.5\" y=\"-122.7\" font-family=\"Times,serif\" font-size=\"14.00\">gradient 0.0000</text>\n",
       "</g>\n",
       "<!-- 4591604960tanh -->\n",
       "<g id=\"node8\" class=\"node\">\n",
       "<title>4591604960tanh</title>\n",
       "<ellipse fill=\"none\" stroke=\"black\" cx=\"1379.25\" cy=\"-127.5\" rx=\"27\" ry=\"18\"/>\n",
       "<text text-anchor=\"middle\" x=\"1379.25\" y=\"-122.45\" font-family=\"Times,serif\" font-size=\"14.00\">tanh</text>\n",
       "</g>\n",
       "<!-- 4591604848&#45;&gt;4591604960tanh -->\n",
       "<g id=\"edge8\" class=\"edge\">\n",
       "<title>4591604848&#45;&gt;4591604960tanh</title>\n",
       "<path fill=\"none\" stroke=\"black\" d=\"M1316.63,-127.5C1325.02,-127.5 1333.12,-127.5 1340.53,-127.5\"/>\n",
       "<polygon fill=\"black\" stroke=\"black\" points=\"1340.4,-131 1350.4,-127.5 1340.4,-124 1340.4,-131\"/>\n",
       "</g>\n",
       "<!-- 4591604848+&#45;&gt;4591604848 -->\n",
       "<g id=\"edge2\" class=\"edge\">\n",
       "<title>4591604848+&#45;&gt;4591604848</title>\n",
       "<path fill=\"none\" stroke=\"black\" d=\"M1076.44,-127.5C1083.59,-127.5 1091.81,-127.5 1100.61,-127.5\"/>\n",
       "<polygon fill=\"black\" stroke=\"black\" points=\"1100.5,-131 1110.5,-127.5 1100.5,-124 1100.5,-131\"/>\n",
       "</g>\n",
       "<!-- 4591602832 -->\n",
       "<g id=\"node6\" class=\"node\">\n",
       "<title>4591602832</title>\n",
       "<polygon fill=\"none\" stroke=\"black\" points=\"3.75,-165.5 3.75,-201.5 214.5,-201.5 214.5,-165.5 3.75,-165.5\"/>\n",
       "<text text-anchor=\"middle\" x=\"18.5\" y=\"-178.7\" font-family=\"Times,serif\" font-size=\"14.00\">x2</text>\n",
       "<polyline fill=\"none\" stroke=\"black\" points=\"33.25,-166 33.25,-201.5\"/>\n",
       "<text text-anchor=\"middle\" x=\"73.12\" y=\"-178.7\" font-family=\"Times,serif\" font-size=\"14.00\">data 0.0000</text>\n",
       "<polyline fill=\"none\" stroke=\"black\" points=\"113,-166 113,-201.5\"/>\n",
       "<text text-anchor=\"middle\" x=\"163.75\" y=\"-178.7\" font-family=\"Times,serif\" font-size=\"14.00\">gradient 0.0000</text>\n",
       "</g>\n",
       "<!-- 4591604624* -->\n",
       "<g id=\"node12\" class=\"node\">\n",
       "<title>4591604624*</title>\n",
       "<ellipse fill=\"none\" stroke=\"black\" cx=\"281.25\" cy=\"-128.5\" rx=\"27\" ry=\"18\"/>\n",
       "<text text-anchor=\"middle\" x=\"281.25\" y=\"-123.45\" font-family=\"Times,serif\" font-size=\"14.00\">*</text>\n",
       "</g>\n",
       "<!-- 4591602832&#45;&gt;4591604624* -->\n",
       "<g id=\"edge14\" class=\"edge\">\n",
       "<title>4591602832&#45;&gt;4591604624*</title>\n",
       "<path fill=\"none\" stroke=\"black\" d=\"M190.9,-165.03C200.19,-162.4 209.48,-159.55 218.25,-156.5 228.38,-152.98 239.13,-148.43 248.78,-144.03\"/>\n",
       "<polygon fill=\"black\" stroke=\"black\" points=\"250.18,-147.24 257.74,-139.83 247.2,-140.9 250.18,-147.24\"/>\n",
       "</g>\n",
       "<!-- 4591604960 -->\n",
       "<g id=\"node7\" class=\"node\">\n",
       "<title>4591604960</title>\n",
       "<polygon fill=\"none\" stroke=\"black\" points=\"1442.25,-109.5 1442.25,-145.5 1646.25,-145.5 1646.25,-109.5 1442.25,-109.5\"/>\n",
       "<text text-anchor=\"middle\" x=\"1453.62\" y=\"-122.7\" font-family=\"Times,serif\" font-size=\"14.00\">o</text>\n",
       "<polyline fill=\"none\" stroke=\"black\" points=\"1465,-110 1465,-145.5\"/>\n",
       "<text text-anchor=\"middle\" x=\"1504.88\" y=\"-122.7\" font-family=\"Times,serif\" font-size=\"14.00\">data 0.7071</text>\n",
       "<polyline fill=\"none\" stroke=\"black\" points=\"1544.75,-110 1544.75,-145.5\"/>\n",
       "<text text-anchor=\"middle\" x=\"1595.5\" y=\"-122.7\" font-family=\"Times,serif\" font-size=\"14.00\">gradient 0.0000</text>\n",
       "</g>\n",
       "<!-- 4591604960tanh&#45;&gt;4591604960 -->\n",
       "<g id=\"edge3\" class=\"edge\">\n",
       "<title>4591604960tanh&#45;&gt;4591604960</title>\n",
       "<path fill=\"none\" stroke=\"black\" d=\"M1406.44,-127.5C1413.59,-127.5 1421.81,-127.5 1430.61,-127.5\"/>\n",
       "<polygon fill=\"black\" stroke=\"black\" points=\"1430.5,-131 1440.5,-127.5 1430.5,-124 1430.5,-131\"/>\n",
       "</g>\n",
       "<!-- 4591603952 -->\n",
       "<g id=\"node9\" class=\"node\">\n",
       "<title>4591603952</title>\n",
       "<polygon fill=\"none\" stroke=\"black\" points=\"3.75,-0.5 3.75,-36.5 214.5,-36.5 214.5,-0.5 3.75,-0.5\"/>\n",
       "<text text-anchor=\"middle\" x=\"18.5\" y=\"-13.7\" font-family=\"Times,serif\" font-size=\"14.00\">x1</text>\n",
       "<polyline fill=\"none\" stroke=\"black\" points=\"33.25,-1 33.25,-36.5\"/>\n",
       "<text text-anchor=\"middle\" x=\"73.12\" y=\"-13.7\" font-family=\"Times,serif\" font-size=\"14.00\">data 2.0000</text>\n",
       "<polyline fill=\"none\" stroke=\"black\" points=\"113,-1 113,-36.5\"/>\n",
       "<text text-anchor=\"middle\" x=\"163.75\" y=\"-13.7\" font-family=\"Times,serif\" font-size=\"14.00\">gradient 0.0000</text>\n",
       "</g>\n",
       "<!-- 4591603952&#45;&gt;4591602608* -->\n",
       "<g id=\"edge7\" class=\"edge\">\n",
       "<title>4591603952&#45;&gt;4591602608*</title>\n",
       "<path fill=\"none\" stroke=\"black\" d=\"M187.65,-36.99C198.01,-39.93 208.44,-43.12 218.25,-46.5 228.25,-49.95 238.89,-54.31 248.48,-58.52\"/>\n",
       "<polygon fill=\"black\" stroke=\"black\" points=\"246.84,-61.62 257.39,-62.53 249.71,-55.24 246.84,-61.62\"/>\n",
       "</g>\n",
       "<!-- 4591604064 -->\n",
       "<g id=\"node10\" class=\"node\">\n",
       "<title>4591604064</title>\n",
       "<polygon fill=\"none\" stroke=\"black\" points=\"2.25,-110.5 2.25,-146.5 216,-146.5 216,-110.5 2.25,-110.5\"/>\n",
       "<text text-anchor=\"middle\" x=\"18.5\" y=\"-123.7\" font-family=\"Times,serif\" font-size=\"14.00\">w2</text>\n",
       "<polyline fill=\"none\" stroke=\"black\" points=\"34.75,-111 34.75,-146.5\"/>\n",
       "<text text-anchor=\"middle\" x=\"74.62\" y=\"-123.7\" font-family=\"Times,serif\" font-size=\"14.00\">data 1.0000</text>\n",
       "<polyline fill=\"none\" stroke=\"black\" points=\"114.5,-111 114.5,-146.5\"/>\n",
       "<text text-anchor=\"middle\" x=\"165.25\" y=\"-123.7\" font-family=\"Times,serif\" font-size=\"14.00\">gradient 0.0000</text>\n",
       "</g>\n",
       "<!-- 4591604064&#45;&gt;4591604624* -->\n",
       "<g id=\"edge6\" class=\"edge\">\n",
       "<title>4591604064&#45;&gt;4591604624*</title>\n",
       "<path fill=\"none\" stroke=\"black\" d=\"M216.42,-128.5C225.61,-128.5 234.44,-128.5 242.46,-128.5\"/>\n",
       "<polygon fill=\"black\" stroke=\"black\" points=\"242.42,-132 252.42,-128.5 242.42,-125 242.42,-132\"/>\n",
       "</g>\n",
       "<!-- 4591604624 -->\n",
       "<g id=\"node11\" class=\"node\">\n",
       "<title>4591604624</title>\n",
       "<polygon fill=\"none\" stroke=\"black\" points=\"346.5,-110.5 346.5,-146.5 580.5,-146.5 580.5,-110.5 346.5,-110.5\"/>\n",
       "<text text-anchor=\"middle\" x=\"372.88\" y=\"-123.7\" font-family=\"Times,serif\" font-size=\"14.00\">x2*w2</text>\n",
       "<polyline fill=\"none\" stroke=\"black\" points=\"399.25,-111 399.25,-146.5\"/>\n",
       "<text text-anchor=\"middle\" x=\"439.12\" y=\"-123.7\" font-family=\"Times,serif\" font-size=\"14.00\">data 0.0000</text>\n",
       "<polyline fill=\"none\" stroke=\"black\" points=\"479,-111 479,-146.5\"/>\n",
       "<text text-anchor=\"middle\" x=\"529.75\" y=\"-123.7\" font-family=\"Times,serif\" font-size=\"14.00\">gradient 0.0000</text>\n",
       "</g>\n",
       "<!-- 4591604624&#45;&gt;4591604736+ -->\n",
       "<g id=\"edge11\" class=\"edge\">\n",
       "<title>4591604624&#45;&gt;4591604736+</title>\n",
       "<path fill=\"none\" stroke=\"black\" d=\"M580.95,-110.41C590.44,-108.94 599.5,-107.53 607.66,-106.26\"/>\n",
       "<polygon fill=\"black\" stroke=\"black\" points=\"608.08,-109.74 617.42,-104.74 607,-102.82 608.08,-109.74\"/>\n",
       "</g>\n",
       "<!-- 4591604624*&#45;&gt;4591604624 -->\n",
       "<g id=\"edge4\" class=\"edge\">\n",
       "<title>4591604624*&#45;&gt;4591604624</title>\n",
       "<path fill=\"none\" stroke=\"black\" d=\"M308.46,-128.5C316.19,-128.5 325.22,-128.5 334.95,-128.5\"/>\n",
       "<polygon fill=\"black\" stroke=\"black\" points=\"334.7,-132 344.7,-128.5 334.7,-125 334.7,-132\"/>\n",
       "</g>\n",
       "<!-- 4591602608 -->\n",
       "<g id=\"node13\" class=\"node\">\n",
       "<title>4591602608</title>\n",
       "<polygon fill=\"none\" stroke=\"black\" points=\"344.25,-55.5 344.25,-91.5 582.75,-91.5 582.75,-55.5 344.25,-55.5\"/>\n",
       "<text text-anchor=\"middle\" x=\"370.62\" y=\"-68.7\" font-family=\"Times,serif\" font-size=\"14.00\">x1*w1</text>\n",
       "<polyline fill=\"none\" stroke=\"black\" points=\"397,-56 397,-91.5\"/>\n",
       "<text text-anchor=\"middle\" x=\"439.12\" y=\"-68.7\" font-family=\"Times,serif\" font-size=\"14.00\">data &#45;6.0000</text>\n",
       "<polyline fill=\"none\" stroke=\"black\" points=\"481.25,-56 481.25,-91.5\"/>\n",
       "<text text-anchor=\"middle\" x=\"532\" y=\"-68.7\" font-family=\"Times,serif\" font-size=\"14.00\">gradient 0.0000</text>\n",
       "</g>\n",
       "<!-- 4591602608&#45;&gt;4591604736+ -->\n",
       "<g id=\"edge9\" class=\"edge\">\n",
       "<title>4591602608&#45;&gt;4591604736+</title>\n",
       "<path fill=\"none\" stroke=\"black\" d=\"M583.22,-91.28C591.96,-92.59 600.3,-93.84 607.86,-94.97\"/>\n",
       "<polygon fill=\"black\" stroke=\"black\" points=\"607.13,-98.4 617.54,-96.42 608.17,-91.48 607.13,-98.4\"/>\n",
       "</g>\n",
       "<!-- 4591602608*&#45;&gt;4591602608 -->\n",
       "<g id=\"edge5\" class=\"edge\">\n",
       "<title>4591602608*&#45;&gt;4591602608</title>\n",
       "<path fill=\"none\" stroke=\"black\" d=\"M308.46,-73.5C315.53,-73.5 323.68,-73.5 332.47,-73.5\"/>\n",
       "<polygon fill=\"black\" stroke=\"black\" points=\"332.39,-77 342.39,-73.5 332.39,-70 332.39,-77\"/>\n",
       "</g>\n",
       "<!-- 4591604176 -->\n",
       "<g id=\"node15\" class=\"node\">\n",
       "<title>4591604176</title>\n",
       "<polygon fill=\"none\" stroke=\"black\" points=\"745.5,-137.5 745.5,-173.5 949.5,-173.5 949.5,-137.5 745.5,-137.5\"/>\n",
       "<text text-anchor=\"middle\" x=\"756.88\" y=\"-150.7\" font-family=\"Times,serif\" font-size=\"14.00\">b</text>\n",
       "<polyline fill=\"none\" stroke=\"black\" points=\"768.25,-138 768.25,-173.5\"/>\n",
       "<text text-anchor=\"middle\" x=\"808.12\" y=\"-150.7\" font-family=\"Times,serif\" font-size=\"14.00\">data 6.8814</text>\n",
       "<polyline fill=\"none\" stroke=\"black\" points=\"848,-138 848,-173.5\"/>\n",
       "<text text-anchor=\"middle\" x=\"898.75\" y=\"-150.7\" font-family=\"Times,serif\" font-size=\"14.00\">gradient 0.0000</text>\n",
       "</g>\n",
       "<!-- 4591604176&#45;&gt;4591604848+ -->\n",
       "<g id=\"edge12\" class=\"edge\">\n",
       "<title>4591604176&#45;&gt;4591604848+</title>\n",
       "<path fill=\"none\" stroke=\"black\" d=\"M949.84,-141.29C971.81,-138.22 993.68,-135.15 1011.21,-132.69\"/>\n",
       "<polygon fill=\"black\" stroke=\"black\" points=\"1011.68,-136.16 1021.1,-131.31 1010.71,-129.23 1011.68,-136.16\"/>\n",
       "</g>\n",
       "</g>\n",
       "</svg>\n"
      ],
      "text/plain": [
       "<graphviz.graphs.Digraph at 0x111aa4f30>"
      ]
     },
     "execution_count": 31,
     "metadata": {},
     "output_type": "execute_result"
    }
   ],
   "source": [
    "draw_network(o)"
   ]
  },
  {
   "cell_type": "markdown",
   "metadata": {},
   "source": [
    "# Activation Functions\n",
    "(A.k.a squashing functions)\n",
    "## TanH\n",
    "Hyperbolic Tangent that maps inputs to values in the range (-1, 1)."
   ]
  },
  {
   "cell_type": "code",
   "execution_count": 41,
   "metadata": {},
   "outputs": [],
   "source": [
    "x = np.arange(-5,5,0.2)"
   ]
  },
  {
   "cell_type": "code",
   "execution_count": 42,
   "metadata": {},
   "outputs": [
    {
     "data": {
      "text/plain": [
       "Text(0, 0.5, 'Output')"
      ]
     },
     "execution_count": 42,
     "metadata": {},
     "output_type": "execute_result"
    },
    {
     "data": {
      "image/png": "[encoded data removed]",
      "text/plain": [
       "<Figure size 640x480 with 1 Axes>"
      ]
     },
     "metadata": {},
     "output_type": "display_data"
    }
   ],
   "source": [
    "# tanh\n",
    "plt.plot(x, np.tanh(x)); plt.grid()\n",
    "plt.title('TanH Activation Function')\n",
    "plt.xlabel('Input')\n",
    "plt.ylabel('Output')"
   ]
  },
  {
   "cell_type": "markdown",
   "metadata": {},
   "source": [
    "## Sigmoid\n",
    "Maps all real numbers to values between 0 and 1."
   ]
  },
  {
   "cell_type": "code",
   "execution_count": 43,
   "metadata": {},
   "outputs": [],
   "source": [
    "def sigmoid(x: float) -> float:\n",
    "    return 1/(1 + np.exp(-x))"
   ]
  },
  {
   "cell_type": "code",
   "execution_count": 44,
   "metadata": {},
   "outputs": [
    {
     "data": {
      "text/plain": [
       "Text(0, 0.5, 'Output')"
      ]
     },
     "execution_count": 44,
     "metadata": {},
     "output_type": "execute_result"
    },
    {
     "data": {
      "image/png": "[encoded data removed]",
      "text/plain": [
       "<Figure size 640x480 with 1 Axes>"
      ]
     },
     "metadata": {},
     "output_type": "display_data"
    }
   ],
   "source": [
    "# sigmoid \n",
    "plt.plot(x, sigmoid(x)); plt.grid()\n",
    "plt.title('Sigmoid Activation Function')\n",
    "plt.xlabel('Input')\n",
    "plt.ylabel('Output')"
   ]
  },
  {
   "cell_type": "markdown",
   "metadata": {},
   "source": [
    "## ReLU: Rectified Linear Unit\n",
    "Sets negative values to 0 and leaves positive values unchanged."
   ]
  },
  {
   "cell_type": "code",
   "execution_count": 45,
   "metadata": {},
   "outputs": [
    {
     "data": {
      "text/plain": [
       "Text(0, 0.5, 'Output')"
      ]
     },
     "execution_count": 45,
     "metadata": {},
     "output_type": "execute_result"
    },
    {
     "data": {
      "image/png": "[encoded data removed]",
      "text/plain": [
       "<Figure size 640x480 with 1 Axes>"
      ]
     },
     "metadata": {},
     "output_type": "display_data"
    }
   ],
   "source": [
    "plt.plot(x, np.maximum(0, x)); plt.grid()\n",
    "plt.title('ReLU Activation Function')\n",
    "plt.xlabel('Input')\n",
    "plt.ylabel('Output')"
   ]
  },
  {
   "cell_type": "markdown",
   "metadata": {},
   "source": [
    "## Softmax\n",
    "Maps all real numbers to a probability distribution over multiple classes."
   ]
  },
  {
   "cell_type": "code",
   "execution_count": 46,
   "metadata": {},
   "outputs": [],
   "source": [
    "def softmax(x: np.ndarray) -> np.ndarray:\n",
    "    return np.exp(x) / np.sum(np.exp(x))"
   ]
  },
  {
   "cell_type": "code",
   "execution_count": 47,
   "metadata": {},
   "outputs": [
    {
     "data": {
      "text/plain": [
       "Text(0, 0.5, 'Output')"
      ]
     },
     "execution_count": 47,
     "metadata": {},
     "output_type": "execute_result"
    },
    {
     "data": {
      "image/png": "[encoded data removed]",
      "text/plain": [
       "<Figure size 640x480 with 1 Axes>"
      ]
     },
     "metadata": {},
     "output_type": "display_data"
    }
   ],
   "source": [
    "plt.plot(x, softmax(x)); plt.grid()\n",
    "plt.title('Softmax Activation Function')\n",
    "plt.xlabel('Input')\n",
    "plt.ylabel('Output')"
   ]
  }
 ],
 "metadata": {
  "kernelspec": {
   "display_name": "py3_13",
   "language": "python",
   "name": "python3"
  },
  "language_info": {
   "codemirror_mode": {
    "name": "ipython",
    "version": 3
   },
   "file_extension": ".py",
   "mimetype": "text/x-python",
   "name": "python",
   "nbconvert_exporter": "python",
   "pygments_lexer": "ipython3",
   "version": "3.13.1"
  }
 },
 "nbformat": 4,
 "nbformat_minor": 2
}
